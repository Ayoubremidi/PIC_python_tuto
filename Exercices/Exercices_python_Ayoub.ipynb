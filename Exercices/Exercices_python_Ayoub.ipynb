{
 "cells": [
  {
   "cell_type": "markdown",
   "metadata": {},
   "source": [
    "## Thème 1 : Exercices numériques simples"
   ]
  },
  {
   "cell_type": "markdown",
   "metadata": {},
   "source": [
    "### Exercice 1.1"
   ]
  },
  {
   "cell_type": "markdown",
   "metadata": {},
   "source": [
    "##### Question 1"
   ]
  },
  {
   "cell_type": "code",
   "execution_count": 1,
   "metadata": {},
   "outputs": [
    {
     "name": "stdout",
     "output_type": "stream",
     "text": [
      "Résultat du test 1 : 2.0\n",
      "Résultat du test 2 : 0.0\n",
      "Résultat du test 3 : 1.6666666666666667\n"
     ]
    }
   ],
   "source": [
    "# Liste de tests contenant des triplets de nombres pour lesquels nous voulons calculer la moyenne\n",
    "tests_moyenne_3 = [\n",
    "    (3, 6, -3),\n",
    "    (-3, 0, 3),\n",
    "    (1.5, 2.5, 1.0)\n",
    "]\n",
    "\n",
    "# Fonction pour calculer la moyenne de trois nombres\n",
    "def moyenne_3_nb(a, b, c):\n",
    "    \"\"\"\n",
    "    Calcule la moyenne de trois nombres a, b et c.\n",
    "    \"\"\"\n",
    "    return (a + b + c) / 3  # Somme des trois nombres divisée par 3\n",
    "\n",
    "# Création d'une liste vide pour stocker les résultats\n",
    "resultats_moyenne_3 = []\n",
    "\n",
    "# Calcul de la moyenne pour chaque jeu de tests et ajout du résultat dans la liste\n",
    "for test in tests_moyenne_3:\n",
    "    resultat = moyenne_3_nb(test[0], test[1], test[2])  # Appel de la fonction avec les trois valeurs\n",
    "    resultats_moyenne_3.append(resultat)  # Ajout du résultat dans la liste\n",
    "\n",
    "# Affichage des résultats pour chaque test\n",
    "for i, res in enumerate(resultats_moyenne_3):\n",
    "    print(f\"Résultat du test {i + 1} : {res}\")\n"
   ]
  },
  {
   "cell_type": "markdown",
   "metadata": {},
   "source": [
    "##### Question 2"
   ]
  },
  {
   "cell_type": "code",
   "execution_count": 2,
   "metadata": {},
   "outputs": [],
   "source": [
    "# Définition de la fonction moyenne_ponderee\n",
    "def moyenne_ponderee(a, b, c, pa, pb, pc):\n",
    "    # Calcul de la somme pondérée des valeurs\n",
    "    somme_ponderee = (a * pa + b * pb + c * pc)\n",
    "    # Calcul de la somme des coefficients\n",
    "    somme_coefficients = pa + pb + pc\n",
    "    # Retourne la moyenne pondérée si la somme des coefficients est non nulle\n",
    "    if somme_coefficients != 0:\n",
    "        return somme_ponderee / somme_coefficients\n",
    "    else:\n",
    "        return None  # Pour éviter la division par zéro"
   ]
  },
  {
   "cell_type": "code",
   "execution_count": 3,
   "metadata": {},
   "outputs": [],
   "source": [
    "# Exemple de tests dans un notebook Jupyter\n",
    "TEST1 = moyenne_ponderee(-10, -20, -30, -1, 2, 3)\n",
    "TEST2 = moyenne_ponderee(5, 15, 25, 1, 1, 1)\n",
    "TEST3 = moyenne_ponderee(10, 20, 30, 0, 1, 1)"
   ]
  },
  {
   "cell_type": "code",
   "execution_count": 4,
   "metadata": {},
   "outputs": [
    {
     "name": "stdout",
     "output_type": "stream",
     "text": [
      "Test 1: -30.0\n",
      "Test 2: 15.0\n",
      "Test 3: 25.0\n"
     ]
    }
   ],
   "source": [
    "# Affichage des résultats dans le notebook\n",
    "print(f\"Test 1: {TEST1}\")  # Résultat attendu: 23.33\n",
    "print(f\"Test 2: {TEST2}\")  # Résultat attendu: 15.0\n",
    "print(f\"Test 3: {TEST3}\")  # Résultat attendu: 25.0"
   ]
  },
  {
   "cell_type": "markdown",
   "metadata": {},
   "source": [
    "### Exercice 1.6"
   ]
  },
  {
   "cell_type": "markdown",
   "metadata": {},
   "source": [
    "##### Question 1"
   ]
  },
  {
   "cell_type": "code",
   "execution_count": 5,
   "metadata": {},
   "outputs": [],
   "source": [
    "# Définition de la fonction pour calculer le n-ième nombre de Fermat\n",
    "def fermat(n):\n",
    "    puissance = 2 ** n  #Calcul de 2^n\n",
    "    result = 2 ** puissance  #Ensuite, calcul de 2^(2^n)\n",
    "    Fn = result + 1  #On ajoute 1 au résultat final pour obtenir le nombre de Fermat\n",
    "    return Fn"
   ]
  },
  {
   "cell_type": "markdown",
   "metadata": {},
   "source": []
  },
  {
   "cell_type": "code",
   "execution_count": 6,
   "metadata": {},
   "outputs": [
    {
     "name": "stdout",
     "output_type": "stream",
     "text": [
      "3\n",
      "5\n",
      "17\n",
      "4294967297\n"
     ]
    }
   ],
   "source": [
    "# Quelques tests pour vérifier la fonction\n",
    "print(fermat(0))  # Doit afficher 3\n",
    "print(fermat(1))  # Doit afficher 5\n",
    "print(fermat(2))  # Doit afficher 17\n",
    "print(fermat(5))  # Doit afficher 4294967297"
   ]
  },
  {
   "cell_type": "markdown",
   "metadata": {},
   "source": [
    "##### Question 2"
   ]
  },
  {
   "cell_type": "code",
   "execution_count": 7,
   "metadata": {},
   "outputs": [
    {
     "name": "stdout",
     "output_type": "stream",
     "text": [
      "F5 est divisible par 641 : True\n"
     ]
    }
   ],
   "source": [
    "# Code pour la deuxième question : vérifier que F5 est divisible par 641\n",
    "F5 = fermat(5)\n",
    "is_divisible_by_641 = F5 % 641 == 0\n",
    "print(\"F5 est divisible par 641 :\", is_divisible_by_641)  # Doit afficher True si F5 est divisible par 641"
   ]
  },
  {
   "cell_type": "markdown",
   "metadata": {},
   "source": [
    "## Thème 2 : Exercices avec fonctions simples"
   ]
  },
  {
   "cell_type": "markdown",
   "metadata": {},
   "source": [
    "### Exercice 2.1 : Variables et affectations"
   ]
  },
  {
   "cell_type": "markdown",
   "metadata": {},
   "source": [
    "##### Question 1"
   ]
  },
  {
   "cell_type": "code",
   "execution_count": 8,
   "metadata": {},
   "outputs": [
    {
     "name": "stdout",
     "output_type": "stream",
     "text": [
      "Valeur de a après a = 3 : 3\n",
      "Valeur de a : 3\n",
      "Valeur de a après a = 0 : 0\n",
      "a est-il égal à 0 ? True\n",
      "a est-il égal à 3 ? False\n",
      "Valeur de b après b = 2 : 2\n",
      "a est-il égal à b ? False\n",
      "Nouvelle valeur de b après b = a : 0\n",
      "a est-il maintenant égal à b ? True\n",
      "Nouvelle valeur de b après b = 4 : 4\n",
      "a est-il égal à b ? False\n",
      "(a == 2) est-il égal à (b == 0) ? True\n",
      "Valeur de c après c = (a == 0) : True\n",
      "c est-il égal à (b == 3) ? False\n",
      "Erreur : 'x' n'est pas défini\n"
     ]
    }
   ],
   "source": [
    "# Affecte la valeur 3 à la variable a\n",
    "a = 3\n",
    "print(\"Valeur de a après a = 3 :\", a)  # Affiche 3\n",
    "\n",
    "# Affiche la valeur actuelle de a\n",
    "print(\"Valeur de a :\", a)  # Affiche 3\n",
    "\n",
    "# Change la valeur de a à 0\n",
    "a = 0\n",
    "print(\"Valeur de a après a = 0 :\", a)  # Affiche 0\n",
    "\n",
    "# Vérifie si a est égal à 0\n",
    "print(\"a est-il égal à 0 ?\", a == 0)  # Affiche True\n",
    "\n",
    "# Vérifie si a est égal à 3\n",
    "print(\"a est-il égal à 3 ?\", a == 3)  # Affiche False\n",
    "\n",
    "# Affecte la valeur 2 à la variable b\n",
    "b = 2\n",
    "print(\"Valeur de b après b = 2 :\", b)  # Affiche 2\n",
    "\n",
    "# Compare a et b pour voir s'ils sont égaux\n",
    "print(\"a est-il égal à b ?\", a == b)  # Affiche False\n",
    "\n",
    "# Donne la valeur de a à b, donc b devient 0\n",
    "b = a\n",
    "print(\"Nouvelle valeur de b après b = a :\", b)  # Affiche 0\n",
    "\n",
    "# Vérifie encore une fois si a est égal à b après l'affectation\n",
    "print(\"a est-il maintenant égal à b ?\", a == b)  # Affiche True\n",
    "\n",
    "# Change la valeur de b à 4\n",
    "b = 4\n",
    "print(\"Nouvelle valeur de b après b = 4 :\", b)  # Affiche 4\n",
    "\n",
    "# Compare encore a et b après ce changement\n",
    "print(\"a est-il égal à b ?\", a == b)  # Affiche False\n",
    "\n",
    "# Compare deux conditions et vérifie si les deux sont vraies ou fausses\n",
    "print(\"(a == 2) est-il égal à (b == 0) ?\", (a == 2) == (b == 0))  # Affiche True\n",
    "\n",
    "# Affecte à c le résultat de la comparaison (a == 0)\n",
    "c = (a == 0)\n",
    "print(\"Valeur de c après c = (a == 0) :\", c)  # Affiche True\n",
    "\n",
    "# Vérifie si c est égal au résultat de (b == 3)\n",
    "print(\"c est-il égal à (b == 3) ?\", c == (b == 3))  # Affiche False\n",
    "\n",
    "# Essai d'afficher une variable non définie (x)\n",
    "try:\n",
    "    print(\"Valeur de x :\", x)  # Va causer une erreur car x n'est pas défini\n",
    "except NameError:\n",
    "    print(\"Erreur : 'x' n'est pas défini\")\n",
    "\n"
   ]
  },
  {
   "cell_type": "code",
   "execution_count": 9,
   "metadata": {},
   "outputs": [
    {
     "name": "stdout",
     "output_type": "stream",
     "text": [
      "3\n",
      "3\n",
      "0\n",
      "True\n",
      "False\n",
      "2\n",
      "False\n",
      "0\n",
      "True\n",
      "4\n",
      "False\n",
      "True\n",
      "True\n",
      "False\n"
     ]
    }
   ],
   "source": [
    "# On commence par donner la valeur 3 à la variable a\n",
    "a = 3\n",
    "print(a)  # Affiche 3\n",
    "\n",
    "# Ensuite, on affiche juste la valeur actuelle de a\n",
    "print(a)  # Affiche 3\n",
    "\n",
    "# On change la valeur de a pour qu'elle soit 0\n",
    "a = 0\n",
    "print(a)  # Affiche 0\n",
    "\n",
    "# On vérifie si a est égal à 0\n",
    "print(a == 0)  # Affiche True\n",
    "\n",
    "# On vérifie si a est égal à 3\n",
    "print(a == 3)  # Affiche False\n",
    "\n",
    "# On donne maintenant la valeur 2 à la variable b\n",
    "b = 2\n",
    "print(b)  # Affiche 2\n",
    "\n",
    "# On vérifie si a est égal à b\n",
    "print(a == b)  # Affiche False\n",
    "\n",
    "# On donne la valeur de a à b (donc b devient 0)\n",
    "b = a\n",
    "print(b)  # Affiche 0\n",
    "\n",
    "# On vérifie encore une fois si a est égal à b\n",
    "print(a == b)  # Affiche True\n",
    "\n",
    "# On change la valeur de b pour qu'elle soit 4\n",
    "b = 4\n",
    "print(b)  # Affiche 4\n",
    "\n",
    "# On vérifie à nouveau si a est égal à b\n",
    "print(a == b)  # Affiche False\n",
    "\n",
    "# On compare deux conditions pour voir si les deux sont vraies ou fausses\n",
    "print((a == 2) == (b == 0))  # Affiche True\n",
    "\n",
    "# On utilise la comparaison (a == 0) et on stocke le résultat dans c\n",
    "c = (a == 0)\n",
    "print(c)  # Affiche True\n",
    "\n",
    "# On vérifie si c est égal au résultat de (b == 3)\n",
    "print(c == (b == 3))  # Affiche False\n"
   ]
  },
  {
   "cell_type": "markdown",
   "metadata": {},
   "source": [
    "##### Question 2"
   ]
  },
  {
   "cell_type": "code",
   "execution_count": 10,
   "metadata": {},
   "outputs": [
    {
     "name": "stdout",
     "output_type": "stream",
     "text": [
      "Bonne santé\n",
      "Malade\n"
     ]
    }
   ],
   "source": [
    "# Définition de la fonction sante\n",
    "def sante(x):\n",
    "    if x == 37.5:  # Vérifie si x est égal à 37.5\n",
    "        return \"Bonne santé\"\n",
    "    else:\n",
    "        return \"Malade\"\n",
    "\n",
    "# Tests pour la fonction sante\n",
    "print(sante(37.5))  # Affiche \"Bonne santé\"\n",
    "print(sante(36.0))  # Affiche \"Malade\""
   ]
  },
  {
   "cell_type": "markdown",
   "metadata": {},
   "source": [
    "### Exercice 2.6 : Manipulation des booléens"
   ]
  },
  {
   "cell_type": "code",
   "execution_count": 11,
   "metadata": {},
   "outputs": [
    {
     "name": "stdout",
     "output_type": "stream",
     "text": [
      "Tests pour 'ou' :\n",
      "True\n",
      "False\n",
      "\n",
      "Tests pour 'et' :\n",
      "False\n",
      "True\n",
      "\n",
      "Tests pour 'non' :\n",
      "False\n",
      "True\n",
      "\n",
      "Tests pour 'implique' :\n",
      "True\n",
      "False\n",
      "\n",
      "Tests pour 'ou_exclusif' :\n",
      "True\n",
      "False\n",
      "\n",
      "Tests pour 'equivalent' :\n",
      "True\n",
      "False\n",
      "True\n"
     ]
    }
   ],
   "source": [
    "# Fonction qui retourne la disjonction (ou logique) de p et q\n",
    "def ou(p, q):\n",
    "    \"\"\"Retourne la disjonction de p et q.\"\"\"\n",
    "    if p:\n",
    "        return True\n",
    "    elif q:\n",
    "        return True\n",
    "    else:\n",
    "        return False\n",
    "\n",
    "# Fonction qui retourne la conjonction (et logique) de p et q\n",
    "def et(p, q):\n",
    "    \"\"\"Retourne la conjonction de p et q.\"\"\"\n",
    "    if p:\n",
    "        if q:\n",
    "            return True\n",
    "        else:\n",
    "            return False\n",
    "    else:\n",
    "        return False\n",
    "\n",
    "# Fonction qui retourne la négation de p\n",
    "def non(p):\n",
    "    \"\"\"Retourne la négation de p.\"\"\"\n",
    "    if p:\n",
    "        return False\n",
    "    else:\n",
    "        return True\n",
    "\n",
    "# Tests pour les fonctions ou, et, et non\n",
    "print(\"Tests pour 'ou' :\")\n",
    "print(ou(True, False))  # Devrait afficher True\n",
    "print(ou(False, False)) # Devrait afficher False\n",
    "\n",
    "print(\"\\nTests pour 'et' :\")\n",
    "print(et(True, False))  # Devrait afficher False\n",
    "print(et(True, True))   # Devrait afficher True\n",
    "\n",
    "print(\"\\nTests pour 'non' :\")\n",
    "print(non(True))        # Devrait afficher False\n",
    "print(non(False))       # Devrait afficher True\n",
    "\n",
    "# Fonction qui retourne \"p implique q\"\n",
    "def implique(p, q):\n",
    "    \"\"\"Retourne le résultat de 'p implique q'.\"\"\"\n",
    "    if non(p):\n",
    "        return True\n",
    "    elif q:\n",
    "        return True\n",
    "    else:\n",
    "        return False\n",
    "\n",
    "# Fonction qui retourne \"p xor q\" (ou exclusif)\n",
    "def ou_exclusif(p, q):\n",
    "    \"\"\"Retourne le résultat de 'p xor q'.\"\"\"\n",
    "    if et(p, non(q)):\n",
    "        return True\n",
    "    elif et(non(p), q):\n",
    "        return True\n",
    "    else:\n",
    "        return False\n",
    "\n",
    "# Tests pour les fonctions implique et ou_exclusif\n",
    "print(\"\\nTests pour 'implique' :\")\n",
    "print(implique(False, False))  # Devrait afficher True\n",
    "print(implique(True, False))   # Devrait afficher False\n",
    "\n",
    "print(\"\\nTests pour 'ou_exclusif' :\")\n",
    "print(ou_exclusif(True, False))  # Devrait afficher True\n",
    "print(ou_exclusif(True, True))   # Devrait afficher False\n",
    "\n",
    "# Fonction qui retourne True si et seulement si p et q sont équivalents\n",
    "def equivalent(p, q):\n",
    "    \"\"\"Retourne True si et seulement si p et q sont équivalents.\"\"\"\n",
    "    if et(implique(p, q), implique(q, p)):\n",
    "        return True\n",
    "    else:\n",
    "        return False\n",
    "\n",
    "# Tests pour la fonction equivalent\n",
    "print(\"\\nTests pour 'equivalent' :\")\n",
    "print(equivalent(True, True))    # Devrait afficher True\n",
    "print(equivalent(True, False))   # Devrait afficher False\n",
    "print(equivalent(False, False))  # Devrait afficher True\n"
   ]
  },
  {
   "cell_type": "markdown",
   "metadata": {},
   "source": [
    "## Thème 3 : Exercices simples sur les boucles"
   ]
  },
  {
   "cell_type": "markdown",
   "metadata": {},
   "source": [
    "### Exercice 3.1 : Manipulation des booléens"
   ]
  },
  {
   "cell_type": "markdown",
   "metadata": {},
   "source": [
    "##### Question 1 : Somme des impairs inférieurs ou égaux à n"
   ]
  },
  {
   "cell_type": "code",
   "execution_count": 12,
   "metadata": {},
   "outputs": [
    {
     "name": "stdout",
     "output_type": "stream",
     "text": [
      "1\n",
      "1\n",
      "9\n"
     ]
    }
   ],
   "source": [
    "def somme_impairs_inf(n):\n",
    "    \"\"\"Renvoie la somme des entiers impairs inférieurs ou égaux à n.\"\"\"\n",
    "    somme = 0  # Initialisation de la somme\n",
    "    i = 1      # On commence avec le premier nombre impair\n",
    "\n",
    "    while i <= n:  # Tant que i est inférieur ou égal à n\n",
    "        somme += i  # On ajoute i à la somme\n",
    "        i += 2      # On passe au nombre impair suivant\n",
    "\n",
    "    return somme\n",
    "\n",
    "# Exemples de tests\n",
    "print(somme_impairs_inf(1))  # Devrait afficher 1\n",
    "print(somme_impairs_inf(2))  # Devrait afficher 1\n",
    "print(somme_impairs_inf(5))  # Devrait afficher 9"
   ]
  },
  {
   "cell_type": "markdown",
   "metadata": {},
   "source": [
    "##### Question 2 : Somme des n premiers impairs"
   ]
  },
  {
   "cell_type": "code",
   "execution_count": 13,
   "metadata": {},
   "outputs": [
    {
     "name": "stdout",
     "output_type": "stream",
     "text": [
      "1\n",
      "4\n",
      "25\n"
     ]
    }
   ],
   "source": [
    "def somme_premiers_impairs(n):\n",
    "    \"\"\"Renvoie la somme des n premiers entiers impairs.\"\"\"\n",
    "    somme = 0  # Initialisation de la somme\n",
    "    compteur = 0  # Compteur de nombres impairs ajoutés\n",
    "    i = 1         # Premier nombre impair\n",
    "\n",
    "    while compteur < n:  # On s'arrête quand on a ajouté n impairs\n",
    "        somme += i       # On ajoute i à la somme\n",
    "        i += 2           # On passe au nombre impair suivant\n",
    "        compteur += 1    # On augmente le compteur\n",
    "\n",
    "    return somme\n",
    "\n",
    "# Exemples de tests\n",
    "print(somme_premiers_impairs(1))  # Devrait afficher 1\n",
    "print(somme_premiers_impairs(2))  # Devrait afficher 4\n",
    "print(somme_premiers_impairs(5))  # Devrait afficher 25\n"
   ]
  },
  {
   "cell_type": "markdown",
   "metadata": {},
   "source": [
    "##### Question 3 : Simulation de boucle pour somme_premiers_impairs(5)"
   ]
  },
  {
   "cell_type": "code",
   "execution_count": 14,
   "metadata": {},
   "outputs": [
    {
     "name": "stdout",
     "output_type": "stream",
     "text": [
      "Étape 1 : compteur = 0, i = 1, somme avant = 0\n",
      "Étape 1 : compteur = 1, i = 3, somme après = 1\n",
      "------\n",
      "Étape 2 : compteur = 1, i = 3, somme avant = 1\n",
      "Étape 2 : compteur = 2, i = 5, somme après = 4\n",
      "------\n",
      "Étape 3 : compteur = 2, i = 5, somme avant = 4\n",
      "Étape 3 : compteur = 3, i = 7, somme après = 9\n",
      "------\n",
      "Étape 4 : compteur = 3, i = 7, somme avant = 9\n",
      "Étape 4 : compteur = 4, i = 9, somme après = 16\n",
      "------\n",
      "Étape 5 : compteur = 4, i = 9, somme avant = 16\n",
      "Étape 5 : compteur = 5, i = 11, somme après = 25\n",
      "------\n",
      "Résultat final: 25\n"
     ]
    }
   ],
   "source": [
    "def somme_premiers_impairs(n):\n",
    "    \"\"\"Renvoie la somme des n premiers entiers impairs avec une simulation étape par étape.\"\"\"\n",
    "    somme = 0          # Initialisation de la somme\n",
    "    compteur = 0       # Compteur de nombres impairs ajoutés\n",
    "    i = 1              # Premier nombre impair\n",
    "\n",
    "    while compteur < n:  # On s'arrête quand on a ajouté n impairs\n",
    "        print(f\"Étape {compteur + 1} : compteur = {compteur}, i = {i}, somme avant = {somme}\")\n",
    "        somme += i        # On ajoute i à la somme\n",
    "        i += 2            # On passe au nombre impair suivant\n",
    "        compteur += 1     # On augmente le compteur\n",
    "        print(f\"Étape {compteur} : compteur = {compteur}, i = {i}, somme après = {somme}\")\n",
    "        print(\"------\")\n",
    "\n",
    "    return somme\n",
    "\n",
    "# Exemple de test avec affichage des étapes\n",
    "print(\"Résultat final:\", somme_premiers_impairs(5))  # Devrait afficher 25 à la fin\n"
   ]
  },
  {
   "cell_type": "markdown",
   "metadata": {},
   "source": [
    "### Exercice 3.6 : Encadrements"
   ]
  },
  {
   "cell_type": "markdown",
   "metadata": {},
   "source": [
    "#### Question 1 : Fonction partie_entière"
   ]
  },
  {
   "cell_type": "code",
   "execution_count": 15,
   "metadata": {},
   "outputs": [
    {
     "name": "stdout",
     "output_type": "stream",
     "text": [
      "0\n",
      "2\n",
      "2\n"
     ]
    }
   ],
   "source": [
    "def partie_entière(x):\n",
    "    \"\"\"\n",
    "    Retourne la partie entière d'un nombre réel positif x.\n",
    "    \"\"\"\n",
    "    n = 0  # Initialisation de n à 0 pour commencer la recherche de la partie entière\n",
    "    while n <= x:  # Tant que n est inférieur ou égal à x\n",
    "        n += 1     # On incrémente n de 1 à chaque itération\n",
    "    return n - 1   # On retourne n - 1 car la boucle s'arrête quand n dépasse x\n",
    "\n",
    "# Exemple de tests pour la fonction partie_entière\n",
    "print(partie_entière(0.66))  # Devrait afficher 0\n",
    "print(partie_entière(2))     # Devrait afficher 2\n",
    "print(partie_entière(2.75))  # Devrait afficher 2"
   ]
  },
  {
   "cell_type": "markdown",
   "metadata": {},
   "source": [
    "#### Question 2 : Fonction encadrement"
   ]
  },
  {
   "cell_type": "code",
   "execution_count": 16,
   "metadata": {},
   "outputs": [
    {
     "name": "stdout",
     "output_type": "stream",
     "text": [
      "0\n",
      "7\n",
      "6\n",
      "4\n"
     ]
    }
   ],
   "source": [
    "def encadrement(x, ecart):\n",
    "    \"\"\"\n",
    "    Renvoie le plus petit entier naturel b tel que b <= x < b + ecart.\n",
    "    \"\"\"\n",
    "    b = 0  # Initialisation de b à 0, représentant la borne inférieure de l'encadrement\n",
    "    while b + ecart <= x:  # Tant que b + ecart est inférieur ou égal à x\n",
    "        b += ecart         # On augmente b de ecart à chaque itération\n",
    "    return b  # Retourne b qui est la borne inférieure de l'encadrement d'écart donné autour de x\n",
    "\n",
    "# Exemple de tests pour la fonction encadrement\n",
    "print(encadrement(0.66, 2))   # Devrait afficher 0\n",
    "print(encadrement(7.42, 1))   # Devrait afficher 7\n",
    "print(encadrement(7.42, 3))   # Devrait afficher 5\n",
    "print(encadrement(7.42, 4))   # Devrait afficher 4"
   ]
  },
  {
   "cell_type": "markdown",
   "metadata": {},
   "source": [
    "#### Question 3 : Fonction partie_entière2 utilisant encadrement"
   ]
  },
  {
   "cell_type": "code",
   "execution_count": 17,
   "metadata": {},
   "outputs": [
    {
     "name": "stdout",
     "output_type": "stream",
     "text": [
      "0\n",
      "2\n",
      "2\n"
     ]
    }
   ],
   "source": [
    "def partie_entière2(x):\n",
    "    \"\"\"\n",
    "    Renvoie la partie entière de x en utilisant la fonction encadrement avec un écart de 1.\n",
    "    \"\"\"\n",
    "    return encadrement(x, 1)  # Appelle encadrement avec ecart=1 pour obtenir la partie entière de x\n",
    "\n",
    "# Exemple de tests pour la fonction partie_entière2\n",
    "print(partie_entière2(0.66))  # Devrait afficher 0\n",
    "print(partie_entière2(2))     # Devrait afficher 2\n",
    "print(partie_entière2(2.75))  # Devrait afficher 2"
   ]
  },
  {
   "cell_type": "markdown",
   "metadata": {},
   "source": [
    "## Thème 4 : Exercices avancés sur les boucles"
   ]
  },
  {
   "cell_type": "markdown",
   "metadata": {},
   "source": [
    "### Exercice 4.1 : Retour sur la factorielle (corrigé)"
   ]
  },
  {
   "cell_type": "code",
   "execution_count": 18,
   "metadata": {},
   "outputs": [],
   "source": [
    "def factorielle(n: int) -> int:\n",
    "    \"\"\"Précondition : n >= 0\n",
    "    Retourne le produit factoriel n! (c'est-à-dire le produit des entiers de 1 à n).\n",
    "    \"\"\"\n",
    "    # Initialisation du rang et de la valeur factorielle\n",
    "    k: int = 1  # Initialisation du rang k à 1\n",
    "    f: int = 1  # Initialisation de f à 1 pour représenter la factorielle au rang k\n",
    "\n",
    "    # Boucle pour calculer la factorielle\n",
    "    while k <= n:\n",
    "        f = f * k  # Multiplie f par k pour avancer dans le calcul\n",
    "        k = k + 1  # Incrémente k pour passer au rang suivant\n",
    "\n",
    "    return f  # Retourne la factorielle calculée de n"
   ]
  },
  {
   "cell_type": "markdown",
   "metadata": {},
   "source": [
    "#### Question 1 : Jeu de tests pour valider la fonction factorielle"
   ]
  },
  {
   "cell_type": "code",
   "execution_count": 19,
   "metadata": {},
   "outputs": [
    {
     "name": "stdout",
     "output_type": "stream",
     "text": [
      "1\n",
      "1\n",
      "120\n",
      "5040\n",
      "3628800\n"
     ]
    }
   ],
   "source": [
    "# Tests pour valider la fonction factorielle\n",
    "print(factorielle(0))  # Cas de base, devrait afficher 1 car 0! = 1\n",
    "print(factorielle(1))  # Devrait afficher 1 car 1! = 1\n",
    "print(factorielle(5))  # Devrait afficher 120 car 5! = 120\n",
    "print(factorielle(7))  # Devrait afficher 5040 car 7! = 5040\n",
    "print(factorielle(10)) # Devrait afficher 3628800 car 10! = 3628800"
   ]
  },
  {
   "cell_type": "markdown",
   "metadata": {},
   "source": [
    "#### Question 3 : Fonction partie_entière2 utilisant encadrement"
   ]
  },
  {
   "cell_type": "markdown",
   "metadata": {},
   "source": [
    "##### Invariant de boucle : À chaque itération, `f` contient la valeur du produit des entiers de 1 à k-1\n",
    "##### Justification : En suivant l'invariant, nous nous assurons que le calcul est correct\n",
    "##### Exemple : Si n = 5, on vérifierait que la boucle termine bien avec f = 120 (5!)"
   ]
  },
  {
   "cell_type": "markdown",
   "metadata": {},
   "source": [
    "#### Question 4 : Terminaison de la fonction (code et explication)"
   ]
  },
  {
   "cell_type": "markdown",
   "metadata": {},
   "source": [
    "##### Variant de boucle : La valeur `n - k + 1` décroît à chaque itération.\n",
    "##### Justification : La boucle se termine car, à chaque étape, `k` augmente et le variant atteint 0.\n",
    "##### Cela prouve que la boucle dans `factorielle` est terminée correctement."
   ]
  },
  {
   "cell_type": "markdown",
   "metadata": {},
   "source": [
    "### Exercice 4.6 : Combinaisons"
   ]
  },
  {
   "cell_type": "markdown",
   "metadata": {},
   "source": [
    "##### Question 1 : Fonction factorielle_compte"
   ]
  },
  {
   "cell_type": "code",
   "execution_count": 20,
   "metadata": {},
   "outputs": [
    {
     "name": "stdout",
     "output_type": "stream",
     "text": [
      "Nombre d'opérations = 5\n",
      "120\n"
     ]
    }
   ],
   "source": [
    "def factorielle_compte(n: int) -> int:\n",
    "    \"\"\"\n",
    "    Calcul de la factorielle de n en comptant le nombre de multiplications.\n",
    "    Précondition : n >= 0\n",
    "    \"\"\"\n",
    "    k = 1\n",
    "    f = 1\n",
    "    nb_ops = 0  # Compteur pour le nombre de multiplications\n",
    "\n",
    "    while k <= n:\n",
    "        f = f * k  # Multiplication pour la factorielle\n",
    "        nb_ops += 1  # Incrémente le compteur de multiplications\n",
    "        k = k + 1\n",
    "\n",
    "    print(f\"Nombre d'opérations = {nb_ops}\")  # Affiche le nombre de multiplications\n",
    "    return f\n",
    "\n",
    "# Exemple de test\n",
    "print(factorielle_compte(5))  # Devrait afficher \"Nombre d'opérations = 5\" puis \"120\"\n"
   ]
  },
  {
   "cell_type": "markdown",
   "metadata": {},
   "source": [
    "##### Question 2: Fonction combinaisons"
   ]
  },
  {
   "cell_type": "code",
   "execution_count": 21,
   "metadata": {},
   "outputs": [
    {
     "name": "stdout",
     "output_type": "stream",
     "text": [
      "10\n",
      "210\n",
      "499500\n",
      "2024844627239012705217099679919929988014900953976321810562143210073709972045489487365269311512653812494119188734765126495133037142433528419473016618694675170534175005002098913875611778595824816204209691316010267328024511573004519542603994447465327178750202279912207735947492170670297407334559549568753758956559052844022756855809735569618271565778171133439527554633825485124074950937274461433708334848019007945938463553747699550479232320148489789212529455037269479630713365794257010061886237940026944448691514388816250011305340866740483276396151136269049509972967093265030871493549145388231227871421116929227940499446585783628117146259020792945293806515481930483868541707707221418962234240370055897833394981433762659927123595173938906908609036860263533677217578042178832280654061007025927213051200\n"
     ]
    }
   ],
   "source": [
    "def factorielle(n: int) -> int:\n",
    "    \"\"\"\n",
    "    Calcul de la factorielle de n.\n",
    "    \"\"\"\n",
    "    k = 1\n",
    "    f = 1\n",
    "    while k <= n:\n",
    "        f = f * k\n",
    "        k = k + 1\n",
    "    return f\n",
    "\n",
    "def combinaisons(n: int, k: int) -> int:\n",
    "    \"\"\"\n",
    "    Calcul du nombre de combinaisons de k parmi n.\n",
    "    \"\"\"\n",
    "    return factorielle(n) // (factorielle(k) * factorielle(n - k))\n",
    "\n",
    "# Exemples de test\n",
    "print(combinaisons(5, 2))   # Devrait afficher 10\n",
    "print(combinaisons(10, 4))  # Calculer le nombre de combinaisons pour 10 parmi 4\n",
    "print(combinaisons(1000, 2))  # Calculer le nombre de combinaisons pour 1000 parmi 2\n",
    "print(combinaisons(10000, 450))  # Calculer le nombre de combinaisons pour 10000 parmi 450"
   ]
  },
  {
   "cell_type": "markdown",
   "metadata": {},
   "source": [
    "##### Question 3 : Vérification de la correction de la fonction factorielle"
   ]
  },
  {
   "cell_type": "code",
   "execution_count": 22,
   "metadata": {},
   "outputs": [
    {
     "name": "stdout",
     "output_type": "stream",
     "text": [
      "120\n"
     ]
    }
   ],
   "source": [
    "def factorielle(n: int) -> int:\n",
    "    \"\"\"\n",
    "    Calcule la factorielle de n (n!) avec un invariant de boucle pour démontrer la correction.\n",
    "    Précondition : n >= 0\n",
    "    \"\"\"\n",
    "    # Initialisation des variables\n",
    "    k = 1       # Rang de la boucle\n",
    "    f = 1       # Valeur de la factorielle au rang k\n",
    "\n",
    "    # Invariant de boucle :\n",
    "    # À chaque itération, f doit contenir la valeur de la factorielle de k - 1.\n",
    "    # Ceci signifie qu'après k itérations, f = (k-1)!\n",
    "    \n",
    "    while k <= n:\n",
    "        f = f * k  # Calcul de la factorielle\n",
    "        k = k + 1  # Incrémentation du rang\n",
    "    \n",
    "    return f\n",
    "\n",
    "# Exemple de test pour la fonction factorielle\n",
    "print(factorielle(5))  # Devrait afficher 120"
   ]
  },
  {
   "cell_type": "markdown",
   "metadata": {},
   "source": [
    "##### Question 4: Fonction combis_rapide"
   ]
  },
  {
   "cell_type": "code",
   "execution_count": 23,
   "metadata": {},
   "outputs": [
    {
     "name": "stdout",
     "output_type": "stream",
     "text": [
      "210\n",
      "499500\n"
     ]
    }
   ],
   "source": [
    "def combis_rapide(n: int, k: int) -> int:\n",
    "    \"\"\"\n",
    "    Calcul rapide du nombre de combinaisons de k parmi n.\n",
    "    Utilise une formule optimisée pour éviter les calculs redondants.\n",
    "    \"\"\"\n",
    "    resultat = 1\n",
    "    for i in range(1, k + 1):\n",
    "        resultat *= (n + 1 - i)  # Numérateur\n",
    "        resultat //= i  # Dénominateur\n",
    "    return resultat\n",
    "\n",
    "# Exemples de test\n",
    "print(combis_rapide(10, 4))  # Calcul rapide pour 10 parmi 4\n",
    "print(combis_rapide(1000, 2))  # Calcul rapide pour 1000 parmi 2"
   ]
  },
  {
   "cell_type": "markdown",
   "metadata": {},
   "source": [
    "##### Question 5: Compteur de multiplications et divisions pour combis_rapide"
   ]
  },
  {
   "cell_type": "code",
   "execution_count": 24,
   "metadata": {},
   "outputs": [
    {
     "name": "stdout",
     "output_type": "stream",
     "text": [
      "Nombre de multiplications = 4, Nombre de divisions = 4\n",
      "210\n",
      "Nombre de multiplications = 2, Nombre de divisions = 2\n",
      "499500\n"
     ]
    }
   ],
   "source": [
    "def combis_rapide_compte(n: int, k: int) -> int:\n",
    "    \"\"\"\n",
    "    Calcul rapide du nombre de combinaisons de k parmi n en comptant les multiplications et divisions.\n",
    "    \"\"\"\n",
    "    resultat = 1\n",
    "    nb_multiplications = 0\n",
    "    nb_divisions = 0\n",
    "\n",
    "    for i in range(1, k + 1):\n",
    "        resultat *= (n + 1 - i)  # Numérateur\n",
    "        nb_multiplications += 1\n",
    "        resultat //= i  # Dénominateur\n",
    "        nb_divisions += 1\n",
    "\n",
    "    print(f\"Nombre de multiplications = {nb_multiplications}, Nombre de divisions = {nb_divisions}\")\n",
    "    return resultat\n",
    "\n",
    "# Exemples de test\n",
    "print(combis_rapide_compte(10, 4))  # Compte pour 10 parmi 4\n",
    "print(combis_rapide_compte(1000, 2))  # Compte pour 1000 parmi 2"
   ]
  },
  {
   "cell_type": "markdown",
   "metadata": {},
   "source": [
    "## Thème 5 : Exercices sur les intervalles et chaînes de caractères"
   ]
  },
  {
   "cell_type": "markdown",
   "metadata": {},
   "source": [
    "### Exercice 5.1 : Combinaisons"
   ]
  },
  {
   "cell_type": "markdown",
   "metadata": {},
   "source": [
    "##### Question 1 : Somme des carrés"
   ]
  },
  {
   "cell_type": "code",
   "execution_count": 25,
   "metadata": {},
   "outputs": [
    {
     "name": "stdout",
     "output_type": "stream",
     "text": [
      "14\n",
      "55\n"
     ]
    }
   ],
   "source": [
    "def somme_carres(n: int) -> int:\n",
    "    \"\"\"\n",
    "    Retourne la somme des carrés des nombres entiers de 1 jusqu'à n.\n",
    "    \n",
    "    Par exemple :\n",
    "    >>> somme_carres(3)\n",
    "    14  # Car 1^2 + 2^2 + 3^2 = 1 + 4 + 9 = 14\n",
    "    \"\"\"\n",
    "    somme = 0  # Initialisation de la somme à 0\n",
    "    for i in range(1, n + 1):  # Boucle de 1 jusqu'à n inclus\n",
    "        somme += i * i  # Ajoute le carré de i à la somme\n",
    "    return somme\n",
    "\n",
    "# Tests\n",
    "print(somme_carres(3))  # Devrait afficher 14\n",
    "print(somme_carres(5))  # Devrait afficher 55"
   ]
  },
  {
   "cell_type": "markdown",
   "metadata": {},
   "source": [
    "###### somme = 0 : Initialise une variable somme à 0 pour stocker la somme des carrés.\n",
    "###### for i in range(1, n + 1) : Parcourt tous les entiers de 1 à n.\n",
    "###### somme += i * i : Calcule le carré de i (i * i) et l'ajoute à somme.\n",
    "###### return somme : Retourne le résultat final."
   ]
  },
  {
   "cell_type": "markdown",
   "metadata": {},
   "source": [
    "##### Question 2 : Fonction mystère f"
   ]
  },
  {
   "cell_type": "code",
   "execution_count": 26,
   "metadata": {},
   "outputs": [
    {
     "name": "stdout",
     "output_type": "stream",
     "text": [
      "592704000\n"
     ]
    }
   ],
   "source": [
    "def produit_cubes(m: int, n: int) -> int:\n",
    "    \"\"\"\n",
    "    Calcule le produit des cubes des entiers de m jusqu'à n-1.\n",
    "    \n",
    "    Par exemple :\n",
    "    >>> produit_cubes(4, 8)\n",
    "    11059200  # Car 4^3 * 5^3 * 6^3 * 7^3\n",
    "    \"\"\"\n",
    "    produit = 1  # Initialise le produit à 1\n",
    "    for k in range(m, n):  # Parcourt de m jusqu'à n-1\n",
    "        produit *= k * k * k  # Multiplie par le cube de k\n",
    "    return produit\n",
    "\n",
    "# Test\n",
    "print(produit_cubes(4, 8))  # Devrait afficher 11059200"
   ]
  },
  {
   "cell_type": "markdown",
   "metadata": {},
   "source": [
    "###### produit = 1 : Initialise une variable produit à 1, car 1 est l’élément neutre de la multiplication.\n",
    "###### for k in range(m, n) : Parcourt tous les entiers de m à n-1.\n",
    "###### produit *= k * k * k : Multiplie produit par le cube de k (soit k * k * k).\n",
    "###### return produit : Retourne le produit final."
   ]
  },
  {
   "cell_type": "markdown",
   "metadata": {},
   "source": [
    "### Exercice 5.6 : Combinaisons"
   ]
  },
  {
   "cell_type": "markdown",
   "metadata": {},
   "source": [
    "##### Question 1 : Fonction base_comp"
   ]
  },
  {
   "cell_type": "code",
   "execution_count": 27,
   "metadata": {},
   "outputs": [
    {
     "name": "stdout",
     "output_type": "stream",
     "text": [
      "T\n",
      "C\n"
     ]
    }
   ],
   "source": [
    "def base_comp(base: str) -> str:\n",
    "    \"\"\"\n",
    "    Retourne la base complémentaire de la base donnée.\n",
    "\n",
    "    La fonction prend une base d'ADN ('A', 'T', 'C', ou 'G') et renvoie sa complémentaire.\n",
    "    - 'A' est complémentaire de 'T'\n",
    "    - 'C' est complémentaire de 'G'\n",
    "\n",
    "    Par exemple :\n",
    "    >>> base_comp('A')\n",
    "    'T'\n",
    "    >>> base_comp('G')\n",
    "    'C'\n",
    "    \"\"\"\n",
    "    if base == 'A':\n",
    "        return 'T'  # 'A' s'apparie avec 'T'\n",
    "    elif base == 'T':\n",
    "        return 'A'  # 'T' s'apparie avec 'A'\n",
    "    elif base == 'C':\n",
    "        return 'G'  # 'C' s'apparie avec 'G'\n",
    "    elif base == 'G':\n",
    "        return 'C'  # 'G' s'apparie avec 'C'\n",
    "\n",
    "# Test de la fonction\n",
    "print(base_comp('A'))  # Affiche 'T'\n",
    "print(base_comp('G'))  # Affiche 'C'"
   ]
  },
  {
   "cell_type": "markdown",
   "metadata": {},
   "source": [
    "##### Question 2 : Fonction brin_comp"
   ]
  },
  {
   "cell_type": "code",
   "execution_count": 28,
   "metadata": {},
   "outputs": [
    {
     "name": "stdout",
     "output_type": "stream",
     "text": [
      "CGAT\n",
      "AGCGCAATACATACGGCAAT\n"
     ]
    }
   ],
   "source": [
    "def brin_comp(brin: str) -> str:\n",
    "    \"\"\"\n",
    "    Retourne le brin ADN complémentaire en inversant les bases et en les remplaçant par leurs complémentaires.\n",
    "\n",
    "    La fonction parcourt le brin donné de droite à gauche, remplaçant chaque base par sa complémentaire.\n",
    "    Par exemple, 'ATCG' devient 'CGAT'.\n",
    "\n",
    "    Par exemple :\n",
    "    >>> brin_comp('ATCG')\n",
    "    'CGAT'\n",
    "    \"\"\"\n",
    "    complementaire = \"\"  # Initialise une chaîne vide pour le complémentaire\n",
    "    for base in reversed(brin):  # Parcourt le brin dans l'ordre inverse\n",
    "        complementaire += base_comp(base)  # Ajoute la base complémentaire\n",
    "    return complementaire\n",
    "\n",
    "# Test de la fonction\n",
    "print(brin_comp('ATCG'))  # Affiche 'CGAT'\n",
    "print(brin_comp('ATTGCCGTATGTATTGCGCT'))  # Affiche 'AGCGCAATACATACGGCAAT'"
   ]
  },
  {
   "cell_type": "markdown",
   "metadata": {},
   "source": [
    "##### Question 3 : Fonction test_comp"
   ]
  },
  {
   "cell_type": "code",
   "execution_count": 29,
   "metadata": {},
   "outputs": [
    {
     "name": "stdout",
     "output_type": "stream",
     "text": [
      "True\n",
      "True\n",
      "False\n"
     ]
    }
   ],
   "source": [
    "def test_comp(brin1: str, brin2: str) -> bool:\n",
    "    \"\"\"\n",
    "    Vérifie si brin1 et brin2 sont complémentaires.\n",
    "\n",
    "    La fonction utilise brin_comp pour transformer brin2 en son complémentaire, puis le compare à brin1.\n",
    "    Si les deux brins sont identiques, ils sont complémentaires.\n",
    "\n",
    "    Par exemple :\n",
    "    >>> test_comp('ATCG', 'CGAT')\n",
    "    True\n",
    "    \"\"\"\n",
    "    return brin1 == brin_comp(brin2)  # Compare brin1 avec le complémentaire inversé de brin2\n",
    "\n",
    "# Test de la fonction\n",
    "print(test_comp('ATCG', 'CGAT'))  # Affiche True\n",
    "print(test_comp('ATTGCCGTATGTATTGCGCT', 'AGCGCAATACATACGGCAAT'))  # Affiche True\n",
    "print(test_comp('ATCG', 'TAAG'))  # Affiche False"
   ]
  },
  {
   "cell_type": "markdown",
   "metadata": {},
   "source": [
    "##### Question 4 : Fonction test_sous_sequence"
   ]
  },
  {
   "cell_type": "code",
   "execution_count": 30,
   "metadata": {},
   "outputs": [
    {
     "name": "stdout",
     "output_type": "stream",
     "text": [
      "True\n",
      "True\n",
      "True\n",
      "False\n"
     ]
    }
   ],
   "source": [
    "def test_sous_sequence(b1: str, b2: str) -> bool:\n",
    "    \"\"\"\n",
    "    Vérifie si b1 est une sous-séquence de b2.\n",
    "\n",
    "    La fonction parcourt chaque sous-chaîne de b2 de longueur égale à celle de b1 et les compare avec b1.\n",
    "    Si une sous-chaîne correspond à b1, alors b1 est une sous-séquence de b2.\n",
    "\n",
    "    Par exemple :\n",
    "    >>> test_sous_sequence('GC', 'TAGC')\n",
    "    True\n",
    "    \"\"\"\n",
    "    n = len(b1)  # Longueur de la séquence à chercher\n",
    "    if b1 == \"\":  # Cas où b1 est vide\n",
    "        return True\n",
    "    if b2 == \"\":  # Cas où b2 est vide\n",
    "        return False\n",
    "    for i in range(len(b2) - n + 1):  # Parcourt les sous-chaînes de b2\n",
    "        if b2[i:i+n] == b1:\n",
    "            return True\n",
    "    return False\n",
    "\n",
    "# Test de la fonction\n",
    "print(test_sous_sequence('', ''))  # Affiche True\n",
    "print(test_sous_sequence('', 'ATCG'))  # Affiche True\n",
    "print(test_sous_sequence('GC', 'TAGC'))  # Affiche True\n",
    "print(test_sous_sequence('GC', 'TAAG'))  # Affiche False"
   ]
  },
  {
   "cell_type": "markdown",
   "metadata": {},
   "source": [
    "##### Question 5 : Fonction recherche_sous_sequence"
   ]
  },
  {
   "cell_type": "code",
   "execution_count": 31,
   "metadata": {},
   "outputs": [
    {
     "name": "stdout",
     "output_type": "stream",
     "text": [
      "0\n",
      "2\n",
      "None\n"
     ]
    }
   ],
   "source": [
    "def recherche_sous_sequence(b1: str, b2: str) -> int:\n",
    "    \"\"\"\n",
    "    Renvoie l'indice de b2 où commence b1, ou None si b1 n'est pas une sous-séquence de b2.\n",
    "\n",
    "    La fonction parcourt b2 pour trouver où commence la sous-séquence b1 et retourne cet indice.\n",
    "    Si b1 n'est pas trouvé, la fonction retourne None.\n",
    "\n",
    "    Par exemple :\n",
    "    >>> recherche_sous_sequence('GC', 'TAGC')\n",
    "    2\n",
    "    \"\"\"\n",
    "    n = len(b1)  # Longueur de la séquence à chercher\n",
    "    if b1 == \"\":  # Si b1 est vide, la position est 0 par convention\n",
    "        return 0\n",
    "    if b2 == \"\":  # Si b2 est vide et b1 non vide, retourne None\n",
    "        return None\n",
    "    for i in range(len(b2) - n + 1):  # Parcourt les sous-chaînes de b2\n",
    "        if b2[i:i+n] == b1:\n",
    "            return i  # Renvoie l'indice où b1 apparaît dans b2\n",
    "    return None  # Si b1 n'est pas trouvé dans b2\n",
    "\n",
    "# Test de la fonction\n",
    "print(recherche_sous_sequence('', ''))  # Affiche 0\n",
    "print(recherche_sous_sequence('GC', 'TAGC'))  # Affiche 2\n",
    "print(recherche_sous_sequence('GC', 'TAAC'))  # Affiche None"
   ]
  },
  {
   "cell_type": "markdown",
   "metadata": {},
   "source": [
    "## Thème 6 : Exercices simples sur les listes"
   ]
  },
  {
   "cell_type": "markdown",
   "metadata": {},
   "source": [
    "##### Exercice 6.1 : Listes de répétitions (corrigé)"
   ]
  },
  {
   "cell_type": "code",
   "execution_count": 32,
   "metadata": {},
   "outputs": [
    {
     "name": "stdout",
     "output_type": "stream",
     "text": [
      "['thon', 'thon', 'thon', 'thon']\n",
      "[3, 3, 3, 3, 3, 3, 3, 3]\n",
      "[[1, 2, 3], [1, 2, 3], [1, 2, 3], [1, 2, 3], [1, 2, 3]]\n"
     ]
    }
   ],
   "source": [
    "def repetition(x, k):\n",
    "    \"\"\"\n",
    "    Renvoie une liste contenant k occurrences de l'élément x.\n",
    "\n",
    "    La fonction utilise la multiplication de liste pour répéter x exactement k fois.\n",
    "    Si k est 0, la fonction renvoie une liste vide.\n",
    "\n",
    "    Par exemple :\n",
    "    >>> repetition(\"thon\", 4)\n",
    "    ['thon', 'thon', 'thon', 'thon']\n",
    "    >>> repetition(3, 8)\n",
    "    [3, 3, 3, 3, 3, 3, 3, 3]\n",
    "    >>> repetition([1, 2, 3], 5)\n",
    "    [[1, 2, 3], [1, 2, 3], [1, 2, 3], [1, 2, 3], [1, 2, 3]]\n",
    "    \"\"\"\n",
    "    # On crée une liste contenant k occurrences de x en utilisant [x] * k\n",
    "    return [x] * k\n",
    "\n",
    "# Test de la fonction\n",
    "print(repetition(\"thon\", 4))  # Affiche ['thon', 'thon', 'thon', 'thon']\n",
    "print(repetition(3, 8))       # Affiche [3, 3, 3, 3, 3, 3, 3, 3]\n",
    "print(repetition([1, 2, 3], 5))  # Affiche [[1, 2, 3], [1, 2, 3], [1, 2, 3], [1, 2, 3], [1, 2, 3]]"
   ]
  },
  {
   "cell_type": "markdown",
   "metadata": {},
   "source": [
    "##### Question 2 : Fonction repetition_bloc"
   ]
  },
  {
   "cell_type": "code",
   "execution_count": 33,
   "metadata": {},
   "outputs": [
    {
     "name": "stdout",
     "output_type": "stream",
     "text": [
      "['chat', 'thon', 'loup', 'chat', 'thon', 'loup', 'chat', 'thon', 'loup']\n",
      "[1, 2, 3, 1, 2, 3, 1, 2, 3, 1, 2, 3, 1, 2, 3]\n",
      "[]\n"
     ]
    }
   ],
   "source": [
    "def repetition_bloc(l, k):\n",
    "    \"\"\"\n",
    "    Renvoie la liste obtenue en concaténant k fois la liste l.\n",
    "\n",
    "    La fonction utilise l'opérateur * pour répéter l k fois et créer une liste de toutes les copies de l.\n",
    "    Si k est 0, la fonction renvoie une liste vide.\n",
    "\n",
    "    Par exemple :\n",
    "    >>> repetition_bloc([\"chat\", \"thon\", \"loup\"], 3)\n",
    "    ['chat', 'thon', 'loup', 'chat', 'thon', 'loup', 'chat', 'thon', 'loup']\n",
    "    >>> repetition_bloc([1, 2, 3], 5)\n",
    "    [1, 2, 3, 1, 2, 3, 1, 2, 3, 1, 2, 3, 1, 2, 3]\n",
    "    \"\"\"\n",
    "    # Concatène k copies de la liste l en utilisant l * k\n",
    "    return l * k\n",
    "\n",
    "# Test de la fonction\n",
    "print(repetition_bloc([\"chat\", \"thon\", \"loup\"], 3))  # Affiche ['chat', 'thon', 'loup', 'chat', 'thon', 'loup', 'chat', 'thon', 'loup']\n",
    "print(repetition_bloc([1, 2, 3], 5))                # Affiche [1, 2, 3, 1, 2, 3, 1, 2, 3, 1, 2, 3, 1, 2, 3]\n",
    "print(repetition_bloc([1, 2, 3, 4, 5], 0))          # Affiche []"
   ]
  },
  {
   "cell_type": "markdown",
   "metadata": {},
   "source": [
    "###### Chaque fonction est simple et utilise l'opérateur * de Python pour multiplier et concaténer les listes de manière efficace. Les commentaires aident à comprendre chaque étape et l'utilisation des valeurs d'exemple permet de tester directement les fonctions."
   ]
  },
  {
   "cell_type": "markdown",
   "metadata": {},
   "source": [
    "##### Exercice 6.6 : Moyenne et variance"
   ]
  },
  {
   "cell_type": "markdown",
   "metadata": {},
   "source": [
    "##### Question 1: Fonction pour calculer la somme des éléments d'une liste\n"
   ]
  },
  {
   "cell_type": "code",
   "execution_count": 34,
   "metadata": {},
   "outputs": [
    {
     "name": "stdout",
     "output_type": "stream",
     "text": [
      "15\n",
      "15.7\n",
      "0\n"
     ]
    }
   ],
   "source": [
    "def somme(liste):\n",
    "    \"\"\"\n",
    "    Calcule la somme des éléments d'une liste de nombres.\n",
    "    Renvoie 0 si la liste est vide.\n",
    "    \"\"\"\n",
    "    total = 0  # On initialise le total à 0\n",
    "    for nombre in liste:\n",
    "        total += nombre  # On ajoute chaque élément au total\n",
    "    return total\n",
    "\n",
    "# Tests pour la fonction somme\n",
    "print(somme([1, 2, 3, 4, 5]))      # Résultat attendu : 15\n",
    "print(somme([1, 2.5, 3.2, 4, 5]))  # Résultat attendu : 15.7\n",
    "print(somme([]))                   # Résultat attendu : 0\n"
   ]
  },
  {
   "cell_type": "markdown",
   "metadata": {},
   "source": [
    "##### Question 2: Fonction pour calculer la moyenne des éléments d'une liste non vide\n"
   ]
  },
  {
   "cell_type": "code",
   "execution_count": 35,
   "metadata": {},
   "outputs": [
    {
     "name": "stdout",
     "output_type": "stream",
     "text": [
      "3.0\n",
      "3.2\n",
      "5.0\n"
     ]
    }
   ],
   "source": [
    "def moyenne(liste):\n",
    "    \"\"\"\n",
    "    Calcule la moyenne des éléments d'une liste non vide de nombres.\n",
    "    \"\"\"\n",
    "    total = somme(liste)  # Utilisation de la fonction somme pour obtenir le total\n",
    "    return total / len(liste)  # Division de la somme par le nombre d'éléments\n",
    "\n",
    "# Tests pour la fonction moyenne\n",
    "print(moyenne([1, 2, 3, 4, 5]))       # Résultat attendu : 3.0\n",
    "print(moyenne([1, 2.5, 3.5, 4, 5]))   # Résultat attendu : 3.2\n",
    "print(moyenne([5]))                   # Résultat attendu : 5.0"
   ]
  },
  {
   "cell_type": "markdown",
   "metadata": {},
   "source": [
    "##### Question 3: Fonction pour obtenir les carrés des éléments d'une liste\n"
   ]
  },
  {
   "cell_type": "code",
   "execution_count": 36,
   "metadata": {},
   "outputs": [
    {
     "name": "stdout",
     "output_type": "stream",
     "text": [
      "[1, 4, 9, 16, 25]\n",
      "[1, 4, 9, 16, 25]\n",
      "[]\n",
      "[100, 0.25, 4.0]\n"
     ]
    }
   ],
   "source": [
    "def carres(liste):\n",
    "    \"\"\"\n",
    "    Retourne une liste contenant les carrés des éléments de la liste donnée.\n",
    "    \"\"\"\n",
    "    resultats = []  # Liste pour stocker les carrés des nombres\n",
    "    for nombre in liste:\n",
    "        resultats.append(nombre ** 2)  # Ajoute le carré de chaque nombre à resultats\n",
    "    return resultats\n",
    "\n",
    "# Tests pour la fonction carres\n",
    "print(carres([1, 2, 3, 4, 5]))         # Résultat attendu : [1, 4, 9, 16, 25]\n",
    "print(carres([1, -2, -3, 4, 5]))       # Résultat attendu : [1, 4, 9, 16, 25]\n",
    "print(carres([]))                      # Résultat attendu : []\n",
    "print(carres([10, 0.5, 2.0]))          # Résultat attendu : [100, 0.25, 4.0]"
   ]
  },
  {
   "cell_type": "markdown",
   "metadata": {},
   "source": [
    "##### Question 4: Fonction pour calculer la variance d'une liste non vide"
   ]
  },
  {
   "cell_type": "code",
   "execution_count": 37,
   "metadata": {},
   "outputs": [
    {
     "name": "stdout",
     "output_type": "stream",
     "text": [
      "0.0\n",
      "100.0\n"
     ]
    }
   ],
   "source": [
    "def variance(liste):\n",
    "    \"\"\"\n",
    "    Calcule la variance des éléments d'une liste de nombres.\n",
    "    La variance est la moyenne des carrés moins le carré de la moyenne.\n",
    "    \"\"\"\n",
    "    moy = moyenne(liste)  # Calcul de la moyenne des éléments\n",
    "    moy_carre = moy ** 2  # Carré de la moyenne\n",
    "    carres_elements = carres(liste)  # Liste des carrés des éléments\n",
    "    moyenne_carres = moyenne(carres_elements)  # Moyenne des carrés des éléments\n",
    "    return moyenne_carres - moy_carre  # Variance : moyenne des carrés - carré de la moyenne\n",
    "\n",
    "# Tests pour la fonction variance\n",
    "print(variance([10, 10, 10, 10]))  # Résultat attendu : 0.0\n",
    "print(variance([20, 0, 20, 0]))    # Résultat attendu : 100.0"
   ]
  },
  {
   "cell_type": "markdown",
   "metadata": {},
   "source": [
    "##### Question 5: Fonction pour calculer l'écart-type d'une liste non vide"
   ]
  },
  {
   "cell_type": "code",
   "execution_count": 38,
   "metadata": {},
   "outputs": [
    {
     "name": "stdout",
     "output_type": "stream",
     "text": [
      "0.0\n",
      "10.0\n",
      "5.0\n",
      "0.7483314773547993\n"
     ]
    }
   ],
   "source": [
    "import math  # Importation du module math pour utiliser la racine carrée\n",
    "\n",
    "def ecart_type(liste):\n",
    "    \"\"\"\n",
    "    Calcule l'écart-type des éléments d'une liste de nombres.\n",
    "    L'écart-type est la racine carrée de la variance.\n",
    "    \"\"\"\n",
    "    var = variance(liste)  # Calcul de la variance\n",
    "    return math.sqrt(var)   # Racine carrée de la variance pour obtenir l'écart-type\n",
    "\n",
    "# Tests pour la fonction ecart_type\n",
    "print(ecart_type([10, 10, 10, 10]))     # Résultat attendu : 0.0\n",
    "print(ecart_type([20, 0, 20, 0]))       # Résultat attendu : 10.0\n",
    "print(ecart_type([15, 15, 5, 5]))       # Résultat attendu : 5.0\n",
    "print(ecart_type([12, 11, 10, 12, 11])) # Résultat attendu : 0.7483314773547993"
   ]
  },
  {
   "cell_type": "markdown",
   "metadata": {},
   "source": [
    "## Thème 7 : Exercices avancés sur les listes"
   ]
  },
  {
   "cell_type": "markdown",
   "metadata": {},
   "source": [
    "##### Exercice 7.1 : Nombres complexes (corrigé)"
   ]
  },
  {
   "cell_type": "code",
   "execution_count": 39,
   "metadata": {},
   "outputs": [],
   "source": [
    "from typing import Tuple\n",
    "\n",
    "# Définition de l'alias de type pour les nombres complexes\n",
    "Complexe = Tuple[float, float]\n",
    "\n",
    "# Question 1 : Fonctions pour récupérer les parties réelle et imaginaire d'un nombre complexe\n",
    "def partie_reelle(c: Complexe) -> float:\n",
    "    \"\"\"Renvoie la partie réelle d'un nombre complexe représenté par un tuple.\"\"\"\n",
    "    return c[0]\n",
    "\n",
    "def partie_imaginaire(c: Complexe) -> float:\n",
    "    \"\"\"Renvoie la partie imaginaire d'un nombre complexe représenté par un tuple.\"\"\"\n",
    "    return c[1]\n",
    "\n",
    "# Question 2 : Fonction pour additionner deux nombres complexes\n",
    "def addition_complexe(c1: Complexe, c2: Complexe) -> Complexe:\n",
    "    \"\"\"Renvoie l'addition de deux nombres complexes représentés par des tuples.\"\"\"\n",
    "    return (c1[0] + c2[0], c1[1] + c2[1])\n",
    "\n",
    "# Question 3 : Fonction pour multiplier deux nombres complexes\n",
    "def produit_complexe(c1: Complexe, c2: Complexe) -> Complexe:\n",
    "    \"\"\"Renvoie le produit de deux nombres complexes représentés par des tuples.\"\"\"\n",
    "    real_part = c1[0] * c2[0] - c1[1] * c2[1]\n",
    "    imag_part = c1[0] * c2[1] + c1[1] * c2[0]\n",
    "    return (real_part, imag_part)"
   ]
  },
  {
   "cell_type": "markdown",
   "metadata": {},
   "source": [
    "##### Exemples de Tests"
   ]
  },
  {
   "cell_type": "code",
   "execution_count": 40,
   "metadata": {},
   "outputs": [
    {
     "name": "stdout",
     "output_type": "stream",
     "text": [
      "2.0\n",
      "3.0\n"
     ]
    }
   ],
   "source": [
    "print(partie_reelle((2.0, 3.0)))  # Expected: 2.0\n",
    "print(partie_imaginaire((2.0, 3.0)))  # Expected: 3.0"
   ]
  },
  {
   "cell_type": "code",
   "execution_count": 41,
   "metadata": {},
   "outputs": [
    {
     "name": "stdout",
     "output_type": "stream",
     "text": [
      "(1.0, 1.0)\n",
      "(2.0, 4.0)\n"
     ]
    }
   ],
   "source": [
    "print(addition_complexe((1.0, 0.0), (0.0, 1.0)))  # Expected: (1.0, 1.0)\n",
    "print(addition_complexe((2.0, 3.0), (0.0, 1.0)))  # Expected: (2.0, 4.0)"
   ]
  },
  {
   "cell_type": "code",
   "execution_count": 42,
   "metadata": {},
   "outputs": [
    {
     "name": "stdout",
     "output_type": "stream",
     "text": [
      "(-1.0, 0.0)\n",
      "(-3.0, 2.0)\n"
     ]
    }
   ],
   "source": [
    "print(produit_complexe((0.0, 1.0), (0.0, 1.0)))  # Expected: (-1.0, 0.0)\n",
    "print(produit_complexe((2.0, 3.0), (0.0, 1.0)))  # Expected: (-3.0, 2.0)"
   ]
  },
  {
   "cell_type": "markdown",
   "metadata": {},
   "source": [
    "##### Exercice 7.6 : Base de données des étudiants"
   ]
  },
  {
   "cell_type": "code",
   "execution_count": 43,
   "metadata": {},
   "outputs": [],
   "source": [
    "from typing import List, Tuple, Optional\n",
    "\n",
    "# Définition de l'alias de type pour les étudiants\n",
    "Etudiant = Tuple[str, str, int, List[int]]\n",
    "\n",
    "# Exemple de base de données des étudiants\n",
    "BaseUPMC: List[Etudiant] = [\n",
    "    ('GARGA', 'Amel', 20231343, [12, 8, 11, 17, 9]),\n",
    "    ('POLO', 'Marcello', 20342241, [9, 11, 19, 3]),\n",
    "    ('AMANGEAI', 'Hildegard', 20244229, [15, 11, 7, 14, 12]),\n",
    "    ('DENT', 'Arthur', 42424242, [8, 4, 9, 4, 12, 5]),\n",
    "    ('ALEZE', 'Blaise', 30012024, [17, 15, 20, 14, 18, 16, 20]),\n",
    "    ('D2', 'R2', 10100101, [10, 10, 10, 10, 10, 10])\n",
    "]\n",
    "\n",
    "# Question 1 : Fonction pour calculer la moyenne d'une liste de notes\n",
    "def note_moyenne(notes: List[int]) -> float:\n",
    "    \"\"\"Renvoie la moyenne d'une liste de notes, ou 0.0 si la liste est vide.\"\"\"\n",
    "    return sum(notes) / len(notes) if notes else 0.0\n",
    "\n",
    "# Question 2 : Fonction pour calculer la moyenne générale des étudiants\n",
    "def moyenne_generale(bd: List[Etudiant]) -> float:\n",
    "    \"\"\"Renvoie la moyenne des moyennes des étudiants dans la base de données.\"\"\"\n",
    "    moyennes = [note_moyenne(etudiant[3]) for etudiant in bd]\n",
    "    return sum(moyennes) / len(moyennes) if moyennes else 0.0\n",
    "\n",
    "# Question 3 : Trouver l'étudiant avec la meilleure moyenne\n",
    "def top_etudiant(bd: List[Etudiant]) -> Tuple[str, str]:\n",
    "    \"\"\"Retourne le nom et prénom de l'étudiant avec la meilleure moyenne dans la base.\"\"\"\n",
    "    meilleur_etudiant = max(bd, key=lambda etu: note_moyenne(etu[3]))\n",
    "    return meilleur_etudiant[0], meilleur_etudiant[1]\n",
    "\n",
    "# Question 4 : Recherche de la moyenne d'un étudiant par son numéro\n",
    "def recherche_moyenne(rnum: int, bd: List[Etudiant]) -> Optional[float]:\n",
    "    \"\"\"Renvoie la moyenne de l'étudiant correspondant au numéro donné, ou None si introuvable.\"\"\"\n",
    "    for etudiant in bd:\n",
    "        if etudiant[2] == rnum:\n",
    "            return note_moyenne(etudiant[3])\n",
    "    return None\n"
   ]
  }
 ],
 "metadata": {
  "kernelspec": {
   "display_name": "Python 3",
   "language": "python",
   "name": "python3"
  },
  "language_info": {
   "codemirror_mode": {
    "name": "ipython",
    "version": 3
   },
   "file_extension": ".py",
   "mimetype": "text/x-python",
   "name": "python",
   "nbconvert_exporter": "python",
   "pygments_lexer": "ipython3",
   "version": "3.13.0"
  }
 },
 "nbformat": 4,
 "nbformat_minor": 2
}
