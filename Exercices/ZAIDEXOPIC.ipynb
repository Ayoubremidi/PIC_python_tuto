{
 "cells": [
  {
   "cell_type": "markdown",
   "metadata": {},
   "source": [
    "# EXO 1.2 :  Calcul d’un prix TTC\n",
    "# Question 1\n"
   ]
  },
  {
   "cell_type": "code",
   "execution_count": 1248,
   "metadata": {},
   "outputs": [],
   "source": [
    "def prix_ttc(ht, taux_tva): #ici on a defini une fonction à deux parametres prix ht et taux tva.\n",
    "    return  ht* (1 + taux_tva / 100) #ici on a le resultat selon la formule."
   ]
  },
  {
   "cell_type": "markdown",
   "metadata": {},
   "source": [
    "# Question 2"
   ]
  },
  {
   "cell_type": "code",
   "execution_count": 1249,
   "metadata": {},
   "outputs": [],
   "source": [
    "def prix_ht(ttc, taux_tva): #ici on a une fonction à deux paramtres prix ttc et taux tva.\n",
    "    return ttc / (1 + taux_tva / 100) #ici on a deduit la formule à partir de la formule precedente pour calculer prix ht"
   ]
  },
  {
   "cell_type": "markdown",
   "metadata": {},
   "source": [
    "# Exemple de jeu de tests\n",
    "# Calcul du prix TTC à partir du prix HT"
   ]
  },
  {
   "cell_type": "code",
   "execution_count": 1250,
   "metadata": {},
   "outputs": [
    {
     "name": "stdout",
     "output_type": "stream",
     "text": [
      "120.0\n"
     ]
    }
   ],
   "source": [
    "print(prix_ttc(100, 20.0)) # ici la fonction print pour pour afficher le resultat"
   ]
  },
  {
   "cell_type": "markdown",
   "metadata": {},
   "source": [
    "# Calcul du prix HT à partir du prix TTC"
   ]
  },
  {
   "cell_type": "code",
   "execution_count": 1251,
   "metadata": {},
   "outputs": [
    {
     "name": "stdout",
     "output_type": "stream",
     "text": [
      "100.0\n"
     ]
    }
   ],
   "source": [
    "print(prix_ht(120, 20.0))\n"
   ]
  },
  {
   "cell_type": "markdown",
   "metadata": {},
   "source": [
    "# EXO 1.5 : Conversion Degrés Fahrenheit-Celsius\n",
    "# Question 1\n"
   ]
  },
  {
   "cell_type": "code",
   "execution_count": 1252,
   "metadata": {},
   "outputs": [],
   "source": [
    "def fahrenheit_vers_celsius(t): #ici on definit une fonction avec un parametres temperature en Fahrenheit\n",
    "    return (t - 32) * 5 / 9 #ici on a le resultat selon la formule donnée"
   ]
  },
  {
   "cell_type": "markdown",
   "metadata": {},
   "source": [
    "# Question 2 "
   ]
  },
  {
   "cell_type": "code",
   "execution_count": 1253,
   "metadata": {},
   "outputs": [],
   "source": [
    "def celsius_vers_fahrenheit(t): #ici on a une fonction qui fait l'inverse \n",
    "    return t * 9 / 5 + 32 #ici on a la formule definie à partir de la premiere pour la conversion inverse"
   ]
  },
  {
   "cell_type": "markdown",
   "metadata": {},
   "source": [
    "# Exemple de jeu de tests\n",
    "# Conversion de Fahrenheit vers Celsius"
   ]
  },
  {
   "cell_type": "code",
   "execution_count": 1254,
   "metadata": {},
   "outputs": [
    {
     "name": "stdout",
     "output_type": "stream",
     "text": [
      "0.0\n",
      "100.0\n"
     ]
    }
   ],
   "source": [
    "print(fahrenheit_vers_celsius(32)) #affichage des resultats pour la premiere fonction\n",
    "print(fahrenheit_vers_celsius(212))"
   ]
  },
  {
   "cell_type": "markdown",
   "metadata": {},
   "source": [
    "# Conversion de Celsius vers Fahrenheit"
   ]
  },
  {
   "cell_type": "code",
   "execution_count": 1255,
   "metadata": {},
   "outputs": [
    {
     "name": "stdout",
     "output_type": "stream",
     "text": [
      "32.0\n",
      "212.0\n"
     ]
    }
   ],
   "source": [
    "print(celsius_vers_fahrenheit(0))   #affichage des resultats pour la deuxieme fonction\n",
    "print(celsius_vers_fahrenheit(100)) "
   ]
  },
  {
   "cell_type": "markdown",
   "metadata": {},
   "source": [
    "# EXO 2.2 : Calcul des mentions\n",
    "# Question 1"
   ]
  },
  {
   "cell_type": "code",
   "execution_count": 1256,
   "metadata": {},
   "outputs": [
    {
     "name": "stdout",
     "output_type": "stream",
     "text": [
      "Eliminé\n",
      "Passable\n",
      "AB\n",
      "B\n",
      "TB\n"
     ]
    }
   ],
   "source": [
    "def mention(note): #ici on definie la fonction mention avec un parametre note.\n",
    "    if  0 <= note < 10 : #ici on met la boucle conditionelle pour tester la note.\n",
    "        return 'Eliminé'\n",
    "    elif 10 <= note < 12:\n",
    "        return 'Passable'\n",
    "    elif 12 <= note < 14:\n",
    "        return 'AB'\n",
    "    elif 14 <= note < 16:\n",
    "        return 'B'\n",
    "    elif 16 <= note <= 20:\n",
    "        return 'TB'\n",
    "    else:\n",
    "        return 'Note invalide'\n",
    "\n",
    "# Exemple de tests\n",
    "print(mention(9))   \n",
    "print(mention(11))  \n",
    "print(mention(13))  \n",
    "print(mention(15))  \n",
    "print(mention(18))  "
   ]
  },
  {
   "cell_type": "markdown",
   "metadata": {},
   "source": [
    "# Question 2"
   ]
  },
  {
   "cell_type": "code",
   "execution_count": 1257,
   "metadata": {},
   "outputs": [
    {
     "name": "stdout",
     "output_type": "stream",
     "text": [
      "Eliminé\n",
      "Passable\n",
      "AB\n",
      "B\n",
      "Note invalide\n"
     ]
    }
   ],
   "source": [
    "def mention(note):\n",
    "    if 10 <= note < 12: #boucle conditionelle avec else pour reduire le nombre de test car la majorité entre 10 et 12\n",
    "        return 'Passable'\n",
    "    else:\n",
    "        if 0 <= note < 10:\n",
    "            return 'Eliminé'\n",
    "        elif 12 <= note < 14:\n",
    "            return 'AB'\n",
    "        elif 14 <= note < 16:\n",
    "            return 'B'\n",
    "        elif 16 <= note <= 20:\n",
    "            return 'TB'\n",
    "        else:\n",
    "            return 'Note invalide'\n",
    "\n",
    "# Exemple de tests\n",
    "print(mention(9))   \n",
    "print(mention(11))  \n",
    "print(mention(13))  \n",
    "print(mention(15))  \n",
    "print(mention(25))  "
   ]
  },
  {
   "cell_type": "markdown",
   "metadata": {},
   "source": [
    "# EXO 2.5 : Volume d’un tétraèdre\n",
    "# Question 1"
   ]
  },
  {
   "cell_type": "code",
   "execution_count": 1258,
   "metadata": {},
   "outputs": [
    {
     "name": "stdout",
     "output_type": "stream",
     "text": [
      "3.1819805153394642\n"
     ]
    }
   ],
   "source": [
    "import math\n",
    "\n",
    "def volume_tetraedre(a, b, c, d, e, f): #calcul à partir des six cotés qui sont ici des arguments\n",
    "    # Calcul des termes intermédiaires X, Y, Z\n",
    "    x = b**2 + c**2 - e**2\n",
    "    y = a**2 + c**2 - f**2\n",
    "    z = a**2 + b**2 - d**2\n",
    "    #calcul des termes intermediaires p, q et r\n",
    "    p = 4 * a**2 * b**2 * c**2\n",
    "    q = a**2 * y**2 + b**2 * z**2 + c**2 * x**2\n",
    "    r = x * y * z \n",
    "    # Calcul du volume selon la formule\n",
    "    volume = math.sqrt(p - q + r) / 12\n",
    "    return volume\n",
    "\n",
    "# Exemple d'un jeu de test (choisir un ensemble de longueurs compatibles pour un tétraèdre)\n",
    "print(volume_tetraedre(3, 3, 3, 3, 3, 3))  \n"
   ]
  },
  {
   "cell_type": "markdown",
   "metadata": {},
   "source": [
    "# Question 2"
   ]
  },
  {
   "cell_type": "code",
   "execution_count": 1259,
   "metadata": {},
   "outputs": [
    {
     "name": "stdout",
     "output_type": "stream",
     "text": [
      "0.11785113019775793\n",
      "3.1819805153394642\n"
     ]
    }
   ],
   "source": [
    "def volume_tetraedre_regulier(l): # ici on a la fonction qui depend d'un parametre l\n",
    "    return (l**3 * math.sqrt(2)) / 12 #ici on la formule de resulta\n",
    "\n",
    "# Exemple de tests\n",
    "print(volume_tetraedre_regulier(1))  \n",
    "print(volume_tetraedre_regulier(3))  \n"
   ]
  },
  {
   "cell_type": "markdown",
   "metadata": {},
   "source": [
    "# EXO 3.2 : Fonction mystère\n",
    "# Question 1 \n",
    "#### La signature de la fonction est f(x: int, y: int) -> int car elle prend deux entiers en entrée (x et y) et retourne un entier z en sortie.\n",
    "#### x et y sont des entiers.\n",
    "#### z est aussi un entier et semble accumuler la somme de quelque chose.\n",
    "#### w est une variable entière utilisée pour itérer de x jusqu'à y. \n",
    "# Question 2\n",
    "#### Effectuons une simulation pour comprendre le comportement de la boucle pour f(3, 6) :\n",
    "#### 1-Initialisation : z = 0 et w = x = 3.\n",
    "#### 2-Boucle :\n",
    "#### Itération 1 : w = 3, donc z = 0 + 3 * 3 = 9, puis w = w + 1 = 4.\n",
    "#### Itération 2 : w = 4, donc z = 9 + 4 * 4 = 25, puis w = 5.\n",
    "#### Itération 3 : w = 5, donc z = 25 + 5 * 5 = 50, puis w = 6.\n",
    "#### Itération 4 : w = 6, donc z = 50 + 6 * 6 = 86, puis w = 7.\n",
    "#### 3-La boucle s'arrête car w = 7, ce qui est supérieur à y = 6.\n",
    "#### La valeur retournée par f(3, 6) est donc 86.\n",
    "#### Question 3\n",
    "#### La boucle s'arrête lorsque w devient supérieur à y. Donc, elle s'arrête à la première valeur de w telle que w > y. En d'autres termes, lorsque w = y + 1.\n",
    "#### Question 4\n",
    "#### Considérons l’appel f(5, 3), où x = 5 et y = 3.\n",
    "#### Dans ce cas, w est initialisé à x = 5, mais la condition w <= y est fausse dès le départ (car 5 > 3), donc la boucle ne s’exécute pas.\n",
    "#### La fonction retourne la valeur initiale de z, qui est 0.\n",
    "#### Cela suggère que la fonction f(x, y) suppose que x ≤ y. Sinon, le résultat retourné est 0.\n",
    "#### Question 5\n",
    "#### D'après notre analyse, la fonction calcule la somme des carrés des entiers allant de x à y, si x ≤ y. Si x > y, elle retourne simplement 0."
   ]
  },
  {
   "cell_type": "markdown",
   "metadata": {},
   "source": [
    "# EXO 3.5 : Suite de Fibonacci \n",
    "# Question 1"
   ]
  },
  {
   "cell_type": "code",
   "execution_count": 1260,
   "metadata": {},
   "outputs": [
    {
     "name": "stdout",
     "output_type": "stream",
     "text": [
      "0\n",
      "1\n",
      "21\n"
     ]
    }
   ],
   "source": [
    "def fibonacci(n): #on definit ici la fonction avec le parametre n\n",
    "    if n == 0:  #ici on defini si n=0 fonction egale 0 et sinon si n=1 fonction egale 1\n",
    "        return 0\n",
    "    elif n == 1:\n",
    "        return 1\n",
    "    else:  #si les deux premiers conditions ne sont pas verifiées on rentre dans cette boucle \n",
    "        a, b = 0, 1 # on met ces variables pour stocker les deux termes precedents\n",
    "        for _ in range(2, n + 1): #on met ici une boucle for qui commence de 2 jusqu'a n+1\n",
    "            temp = a + b #On additionne les deux derniers termes pour obtenir le suivant\n",
    "            a, b = b, temp #On met à jour les valeurs pour l'itération suivante\n",
    "        return b #Le n-ième terme est stocké dans b\n",
    "\n",
    "# Exemple de test\n",
    "print(fibonacci(0))  \n",
    "print(fibonacci(1))  \n",
    "print(fibonacci(8))  \n"
   ]
  },
  {
   "cell_type": "markdown",
   "metadata": {},
   "source": [
    "# Question 3"
   ]
  },
  {
   "cell_type": "code",
   "execution_count": 1261,
   "metadata": {},
   "outputs": [
    {
     "name": "stdout",
     "output_type": "stream",
     "text": [
      "1.0\n",
      "2.0\n",
      "1.5\n"
     ]
    }
   ],
   "source": [
    "def fibo_diff(k): #ici on defini la nouvelle fonction \n",
    "    if k < 2 : #ici on met la condition sur K<2 \n",
    "        raise ValueError(\"k doit etre superieur ou egal à 2\")\n",
    "    fk = fibonacci(k)  \n",
    "    fk_minus_1 = fibonacci (k - 1)\n",
    "    return fk / fk_minus_1 #ici on returne la valeur de la formule donnée\n",
    "print(fibo_diff(2))  # Résultat attendu : 1.0\n",
    "print(fibo_diff(3))  # Résultat attendu : 2.0\n",
    "print(fibo_diff(4))  # Résultat attendu : 1.5"
   ]
  },
  {
   "cell_type": "markdown",
   "metadata": {},
   "source": [
    "# Question 4 "
   ]
  },
  {
   "cell_type": "code",
   "execution_count": 1262,
   "metadata": {},
   "outputs": [
    {
     "name": "stdout",
     "output_type": "stream",
     "text": [
      "True\n",
      "True\n",
      "True\n",
      "True\n"
     ]
    }
   ],
   "source": [
    "import math \n",
    "def fibo_approx(n): # on defini ici la nouvelle fonction qui depend de n\n",
    "    phi = (1 + math.sqrt(5)) / 2  # on defini ici la formule de calcul \n",
    "    return round((phi**n) / math.sqrt(5)) # round pour pour arrondir l'entier le plus proche\n",
    "print(fibo_approx(5)==5)   # Résultat attendu : 5 \n",
    "print(fibonacci(5)==5)     # Résultat attendu : 5\n",
    "print(fibo_approx(10)==55)  # Résultat attendu : 55\n",
    "print(fibonacci(10)==55)    # Résultat attendu : 55 "
   ]
  },
  {
   "cell_type": "markdown",
   "metadata": {},
   "source": [
    "# EXO 4.5 : Couples et intervalles\n",
    "# Question 1 "
   ]
  },
  {
   "cell_type": "code",
   "execution_count": 1263,
   "metadata": {},
   "outputs": [
    {
     "name": "stdout",
     "output_type": "stream",
     "text": [
      "0\n",
      "3\n",
      "10\n"
     ]
    }
   ],
   "source": [
    "def nb_couples_intervalle(n, p): # on defini la fonction avec deux parametres n et p\n",
    "    count = 0 #on met ici un compteur pour calculer les couples \n",
    "    for i in range(n, p): #on met ici une boucle for pour i qui part de n à p-1\n",
    "        for j in range(i + 1, p + 1): #on met ici une boucle for pour J qui part de i+1 jusqu'a p\n",
    "            count += 1\n",
    "    return count\n",
    "\n",
    "# Tests\n",
    "print(nb_couples_intervalle(0, 0))  \n",
    "print(nb_couples_intervalle(2, 4))  \n",
    "print(nb_couples_intervalle(-1, 3)) \n"
   ]
  },
  {
   "cell_type": "markdown",
   "metadata": {},
   "source": [
    "# Question 2 "
   ]
  },
  {
   "cell_type": "code",
   "execution_count": 1264,
   "metadata": {},
   "outputs": [
    {
     "name": "stdout",
     "output_type": "stream",
     "text": [
      "0\n",
      "3\n",
      "2\n",
      "17\n"
     ]
    }
   ],
   "source": [
    "def nb_couples_divise(n, p):\n",
    "    count = 0\n",
    "    for i in range(n, p + 1):\n",
    "        if i == 0:  # On évite la division par zéro\n",
    "            continue\n",
    "        for j in range(i + 1, p + 1):  # j démarre de i + 1 pour garantir i < j\n",
    "            if j % i == 0:  # Vérifie si i divise j\n",
    "                count += 1\n",
    "    return count\n",
    "\n",
    "# Tests\n",
    "print(nb_couples_divise(4, 6))    \n",
    "print(nb_couples_divise(2, 6))    \n",
    "print(nb_couples_divise(-1, 1))   \n",
    "print(nb_couples_divise(1, 10))   \n",
    "\n"
   ]
  },
  {
   "cell_type": "markdown",
   "metadata": {},
   "source": [
    "# Question 3 "
   ]
  },
  {
   "cell_type": "code",
   "execution_count": 1265,
   "metadata": {},
   "outputs": [
    {
     "name": "stdout",
     "output_type": "stream",
     "text": [
      "couple (2, 3)\n",
      "couple (2, 4)\n",
      "------------\n",
      "2 divise 4!\n",
      "------------\n",
      "couple (2, 5)\n",
      "couple (2, 6)\n",
      "------------\n",
      "2 divise 6!\n",
      "------------\n",
      "couple (3, 2)\n",
      "couple (3, 4)\n",
      "couple (3, 5)\n",
      "couple (3, 6)\n",
      "------------\n",
      "3 divise 6!\n",
      "------------\n",
      "couple (4, 2)\n",
      "couple (4, 3)\n",
      "couple (4, 5)\n",
      "couple (4, 6)\n",
      "couple (5, 2)\n",
      "couple (5, 3)\n",
      "couple (5, 4)\n",
      "couple (5, 6)\n",
      "couple (6, 2)\n",
      "couple (6, 3)\n",
      "couple (6, 4)\n",
      "couple (6, 5)\n",
      "3\n"
     ]
    }
   ],
   "source": [
    "def nb_couples_divise_trace(n, p):\n",
    "    count = 0\n",
    "    for i in range(n, p + 1):\n",
    "        for j in range(n, p + 1):\n",
    "            if i != j:\n",
    "                print(f\"couple ({i}, {j})\")\n",
    "                if j % i == 0:\n",
    "                    print(f\"------------\\n{i} divise {j}!\\n------------\")\n",
    "                    count += 1\n",
    "    return count\n",
    "\n",
    "# Exécution avec traçage\n",
    "print(nb_couples_divise_trace(2, 6))\n"
   ]
  },
  {
   "cell_type": "markdown",
   "metadata": {},
   "source": [
    "# Question 4"
   ]
  },
  {
   "cell_type": "code",
   "execution_count": 1266,
   "metadata": {},
   "outputs": [
    {
     "name": "stdout",
     "output_type": "stream",
     "text": [
      "False\n",
      "True\n",
      "True\n",
      "True\n",
      "False\n"
     ]
    }
   ],
   "source": [
    "def existe_couples_divise_rapide(n, p):\n",
    "    for i in range(n, p + 1):\n",
    "        for j in range(n, p + 1):\n",
    "            if i != j and j % i == 0:\n",
    "                return True\n",
    "    return False\n",
    "\n",
    "# Tests\n",
    "print(existe_couples_divise_rapide(0, 0))    # Résultat attendu : False\n",
    "print(existe_couples_divise_rapide(2, 6))    # Résultat attendu : True\n",
    "print(existe_couples_divise_rapide(-1, 1))   # Résultat attendu : True\n",
    "print(existe_couples_divise_rapide(1, 10))   # Résultat attendu : True\n",
    "print(existe_couples_divise_rapide(21, 34))  # Résultat attendu : False\n"
   ]
  },
  {
   "cell_type": "markdown",
   "metadata": {},
   "source": [
    "# Question 5 "
   ]
  },
  {
   "cell_type": "code",
   "execution_count": 1267,
   "metadata": {},
   "outputs": [
    {
     "name": "stdout",
     "output_type": "stream",
     "text": [
      "False\n",
      "True\n",
      "True\n",
      "True\n",
      "False\n"
     ]
    }
   ],
   "source": [
    "def existe_couples_divise_rapide(n, p):\n",
    "    for i in range(n, p + 1):\n",
    "        for j in range(n, p + 1):\n",
    "            if i != j and j % i == 0:\n",
    "                return True  # Sortie de fonction anticipée\n",
    "    return False  # Sortie anticipée si aucun couple n’est trouvé\n",
    "\n",
    "# Tests (identiques à ceux de la Question 4)\n",
    "print(existe_couples_divise_rapide(0, 0))    # Résultat attendu : False\n",
    "print(existe_couples_divise_rapide(2, 6))    # Résultat attendu : True\n",
    "print(existe_couples_divise_rapide(-1, 1))   # Résultat attendu : True\n",
    "print(existe_couples_divise_rapide(1, 10))   # Résultat attendu : True\n",
    "print(existe_couples_divise_rapide(21, 34))  # Résultat attendu : False\n"
   ]
  },
  {
   "cell_type": "markdown",
   "metadata": {},
   "source": [
    "# EXO 5.2 : Fonction mystère\n",
    "# Question 1 "
   ]
  },
  {
   "cell_type": "code",
   "execution_count": 1268,
   "metadata": {},
   "outputs": [],
   "source": [
    "def f(a: str) -> int:\n",
    "    \"\"\"\n",
    "    Compte le nombre de chiffres dans la chaîne de caractères a.\n",
    "    \"\"\"\n",
    "    b = 0  # Initialise le compteur de chiffres\n",
    "    for c in a:  # Parcourt chaque caractère dans a\n",
    "        if '0' <= c <= '9':  # Vérifie si le caractère est un chiffre\n",
    "            b += 1  # Incrémente le compteur\n",
    "    return b"
   ]
  },
  {
   "cell_type": "markdown",
   "metadata": {},
   "source": [
    "# Question 2 "
   ]
  },
  {
   "cell_type": "markdown",
   "metadata": {},
   "source": [
    "#### Effectuons une simulation manuelle de la boucle en prenant a = '10 août' :\n",
    "#### Initialisation : b = 0.\n",
    "#### Boucle :\n",
    "#### c = '1' : '1' est un chiffre, donc b = b + 1 = 1.\n",
    "#### c = '0' : '0' est un chiffre, donc b = b + 1 = 2.\n",
    "#### c = ' ' : l'espace n'est pas un chiffre, donc b reste à 2.\n",
    "#### c = 'a' : 'a' n'est pas un chiffre, donc b reste à 2.\n",
    "#### c = 'o' : 'o' n'est pas un chiffre, donc b reste à 2.\n",
    "#### c = 'û' : 'û' n'est pas un chiffre, donc b reste à 2.\n",
    "#### c = 't' : 't' n'est pas un chiffre, donc b reste à 2.\n",
    "#### La fonction f('10 août') retourne 2.\n",
    "#### Calcul de f pour d’autres chaînes\n",
    "#### f('bonjour') : Aucun caractère n'est un chiffre, donc f('bonjour') = 0.\n",
    "#### f('un : 1') : Un seul caractère, '1', est un chiffre, donc f('un : 1') = 1.\n",
    "#### f('606060') : Tous les caractères sont des chiffres (6 au total), donc f('606060') = 6."
   ]
  },
  {
   "cell_type": "markdown",
   "metadata": {},
   "source": [
    "# Question 3 "
   ]
  },
  {
   "cell_type": "code",
   "execution_count": 1269,
   "metadata": {},
   "outputs": [
    {
     "name": "stdout",
     "output_type": "stream",
     "text": [
      "2\n",
      "0\n",
      "1\n",
      "6\n"
     ]
    }
   ],
   "source": [
    "def compter_chiffres(a: str) -> int:\n",
    "    \"\"\"\n",
    "    Compte et retourne le nombre de caractères numériques (chiffres) dans la chaîne a.\n",
    "\n",
    "    Paramètres :\n",
    "    - a (str) : La chaîne de caractères à analyser.\n",
    "\n",
    "    Retourne :\n",
    "    - int : Le nombre de chiffres dans la chaîne.\n",
    "    \"\"\"\n",
    "    compteur = 0\n",
    "    for caractere in a:\n",
    "        if '0' <= caractere <= '9':\n",
    "            compteur += 1\n",
    "    return compteur\n",
    "\n",
    "# Exemples de tests\n",
    "print(compter_chiffres('10 août'))  # Résultat attendu : 2\n",
    "print(compter_chiffres('bonjour'))  # Résultat attendu : 0\n",
    "print(compter_chiffres('un : 1'))   # Résultat attendu : 1\n",
    "print(compter_chiffres('606060'))   # Résultat attendu : 6\n"
   ]
  },
  {
   "cell_type": "markdown",
   "metadata": {},
   "source": [
    "# EXO 5.5 : Voyelles\n",
    "# Question 1"
   ]
  },
  {
   "cell_type": "code",
   "execution_count": 1270,
   "metadata": {},
   "outputs": [
    {
     "name": "stdout",
     "output_type": "stream",
     "text": [
      "12\n",
      "0\n",
      "5\n"
     ]
    }
   ],
   "source": [
    "def est_voyelle(c: str) -> bool:\n",
    "    \"\"\"\n",
    "    Vérifie si un caractère est une voyelle (minuscule ou majuscule).\n",
    "\n",
    "    Arguments :\n",
    "    c -- un caractère\n",
    "\n",
    "    Retourne :\n",
    "    True si c est une voyelle, False sinon.\n",
    "    \"\"\"\n",
    "    return c in 'aeiouyAEIOUY'\n",
    "def nb_voyelles(s: str) -> int:\n",
    "    \"\"\"\n",
    "    Compte le nombre de voyelles dans la chaîne s.\n",
    "\n",
    "    Arguments :\n",
    "    s -- une chaîne de caractères\n",
    "\n",
    "    Retourne :\n",
    "    Le nombre de voyelles dans s.\n",
    "    \"\"\"\n",
    "    count = 0\n",
    "    for c in s:\n",
    "        if est_voyelle(c):\n",
    "            count += 1\n",
    "    return count\n",
    "print(nb_voyelles('la maman du petit enfant le console'))  # Résultat attendu : 12\n",
    "print(nb_voyelles('mr brrxcx'))                            # Résultat attendu : 0\n",
    "print(nb_voyelles('ai al o ents'))                         # Résultat attendu : 5"
   ]
  },
  {
   "cell_type": "markdown",
   "metadata": {},
   "source": [
    "# Question 2"
   ]
  },
  {
   "cell_type": "code",
   "execution_count": 1271,
   "metadata": {},
   "outputs": [
    {
     "name": "stdout",
     "output_type": "stream",
     "text": [
      "11\n"
     ]
    }
   ],
   "source": [
    "def est_voyelle_accents(c: str) -> bool:\n",
    "    \"\"\"\n",
    "    Vérifie si un caractère est une voyelle (minuscule, majuscule ou accentuée).\n",
    "\n",
    "    Arguments :\n",
    "    c -- un caractère\n",
    "\n",
    "    Retourne :\n",
    "    True si c est une voyelle, False sinon.\n",
    "    \"\"\"\n",
    "    return c in 'aeiouyAEIOUYàâäéèêëîïôöùûüÿ'\n",
    "def nb_voyelles_accents(s: str) -> int:\n",
    "    \"\"\"\n",
    "    Compte le nombre de voyelles (y compris les voyelles accentuées) dans la chaîne s.\n",
    "\n",
    "    Arguments :\n",
    "    s -- une chaîne de caractères\n",
    "\n",
    "    Retourne :\n",
    "    Le nombre de voyelles dans s.\n",
    "    \"\"\"\n",
    "    count = 0\n",
    "    for c in s:\n",
    "        if est_voyelle_accents(c):\n",
    "            count += 1\n",
    "    return count\n",
    "print(nb_voyelles_accents('la maman du bébé le réconforte'))  # Résultat attendu : 11"
   ]
  },
  {
   "cell_type": "markdown",
   "metadata": {},
   "source": [
    "# Question 3"
   ]
  },
  {
   "cell_type": "code",
   "execution_count": 1272,
   "metadata": {},
   "outputs": [
    {
     "name": "stdout",
     "output_type": "stream",
     "text": [
      "\n",
      "l bll  bnd rbndt\n",
      "mr brrxcx\n"
     ]
    }
   ],
   "source": [
    "def sans_voyelle(s: str) -> str:\n",
    "    \"\"\"\n",
    "    Élimine toutes les voyelles de la chaîne s.\n",
    "\n",
    "    Arguments :\n",
    "    s -- une chaîne de caractères\n",
    "\n",
    "    Retourne :\n",
    "    La chaîne s sans voyelles.\n",
    "    \"\"\"\n",
    "    resultat = \"\"\n",
    "    for c in s:\n",
    "        if not est_voyelle_accents(c):\n",
    "            resultat += c\n",
    "    return resultat\n",
    "print(sans_voyelle('aeiouy'))                     # Résultat attendu : ''\n",
    "print(sans_voyelle('la balle au bond rebondit'))  # Résultat attendu : 'l bll bnd rbndt'\n",
    "print(sans_voyelle('mr brrxcx'))                  # Résultat attendu : 'mr brrxcx'\n"
   ]
  },
  {
   "cell_type": "markdown",
   "metadata": {},
   "source": [
    "# Question 4"
   ]
  },
  {
   "cell_type": "code",
   "execution_count": 1273,
   "metadata": {},
   "outputs": [
    {
     "name": "stdout",
     "output_type": "stream",
     "text": [
      "______\n",
      "l_ b_ll_ __ b_nd r_b_nd_t b__n\n",
      "mr brrxcx\n"
     ]
    }
   ],
   "source": [
    "def mot_mystere(s: str) -> str:\n",
    "    \"\"\"\n",
    "    Remplace toutes les voyelles dans la chaîne s par des underscores.\n",
    "\n",
    "    Arguments :\n",
    "    s -- une chaîne de caractères\n",
    "\n",
    "    Retourne :\n",
    "    La chaîne s avec les voyelles remplacées par des underscores.\n",
    "    \"\"\"\n",
    "    resultat = \"\"\n",
    "    for c in s:\n",
    "        if est_voyelle_accents(c):\n",
    "            resultat += '_'\n",
    "        else:\n",
    "            resultat += c\n",
    "    return resultat\n",
    "print(mot_mystere('aeiouy'))                           # Résultat attendu : '______'\n",
    "print(mot_mystere('la balle au bond rebondit bien'))   # Résultat attendu : 'l_ b_ll_ __ b_nd r_b_nd_t b__n'\n",
    "print(mot_mystere('mr brrxcx'))                        # Résultat attendu : 'mr brrxcx'\n"
   ]
  },
  {
   "cell_type": "markdown",
   "metadata": {},
   "source": [
    "# EXO 6.2 \n",
    "# Question 1"
   ]
  },
  {
   "cell_type": "code",
   "execution_count": 1274,
   "metadata": {},
   "outputs": [
    {
     "name": "stdout",
     "output_type": "stream",
     "text": [
      "9\n"
     ]
    }
   ],
   "source": [
    "def max_liste(L: list) -> float:\n",
    "    \"\"\"\n",
    "    Renvoie le plus grand élément de la liste L.\n",
    "\n",
    "    Arguments :\n",
    "    L -- une liste non vide de nombres\n",
    "\n",
    "    Retourne :\n",
    "    Le plus grand élément de la liste.\n",
    "    \"\"\"\n",
    "    # Initialiser le maximum avec le premier élément de la liste\n",
    "    max_value = L[0]\n",
    "    # Parcourir chaque élément de la liste\n",
    "    for elem in L:\n",
    "        if elem > max_value:\n",
    "            max_value = elem\n",
    "    return max_value\n",
    "print(max_liste([3, 7, 9, 5.4, 8.9, 9, 8.999, 5]))  # Résultat attendu : 9\n"
   ]
  },
  {
   "cell_type": "markdown",
   "metadata": {},
   "source": [
    "# Question 2"
   ]
  },
  {
   "cell_type": "code",
   "execution_count": 1275,
   "metadata": {},
   "outputs": [
    {
     "name": "stdout",
     "output_type": "stream",
     "text": [
      "2\n",
      "3\n",
      "0\n"
     ]
    }
   ],
   "source": [
    "def nb_occurrences(L: list, x) -> int:\n",
    "    \"\"\"\n",
    "    Compte le nombre d'occurrences de x dans la liste L.\n",
    "\n",
    "    Arguments :\n",
    "    L -- une liste d'éléments\n",
    "    x -- l'élément à compter\n",
    "\n",
    "    Retourne :\n",
    "    Le nombre d'occurrences de x dans L.\n",
    "    \"\"\"\n",
    "    count = 0\n",
    "    for elem in L:\n",
    "        if elem == x:\n",
    "            count += 1\n",
    "    return count\n",
    "print(nb_occurrences([3, 7, 9, 5.4, 8.9, 9, 8.999, 5], 9))       # Résultat attendu : 2\n",
    "print(nb_occurrences([\"chat\", \"ours\", \"chat\", \"chat\", \"loup\"], \"chat\"))  # Résultat attendu : 3\n",
    "print(nb_occurrences([\"chat\", \"ours\", \"chat\", \"chat\", \"loup\"], \"ou\"))   # Résultat attendu : 0\n"
   ]
  },
  {
   "cell_type": "markdown",
   "metadata": {},
   "source": [
    "# Question 3"
   ]
  },
  {
   "cell_type": "code",
   "execution_count": 1276,
   "metadata": {},
   "outputs": [
    {
     "name": "stdout",
     "output_type": "stream",
     "text": [
      "2\n",
      "3\n"
     ]
    }
   ],
   "source": [
    "def nb_max(L: list) -> int:\n",
    "    \"\"\"\n",
    "    Compte le nombre d'occurrences du maximum dans la liste L.\n",
    "\n",
    "    Arguments :\n",
    "    L -- une liste non vide de nombres\n",
    "\n",
    "    Retourne :\n",
    "    Le nombre d'occurrences du maximum de L dans L.\n",
    "    \"\"\"\n",
    "    max_value = max_liste(L)  # Utiliser la fonction max_liste pour trouver le maximum\n",
    "    return nb_occurrences(L, max_value)\n",
    "print(nb_max([3, 7, 9, 5.4, 8.9, 9, 8.999, 5]))  # Résultat attendu : 2\n",
    "print(nb_max([-2, -1, -5, -3, -1, -4, -1]))      # Résultat attendu : 3\n"
   ]
  },
  {
   "cell_type": "markdown",
   "metadata": {},
   "source": [
    "# EXO 6.5\n",
    "# Question 1"
   ]
  },
  {
   "cell_type": "code",
   "execution_count": 1277,
   "metadata": {},
   "outputs": [],
   "source": [
    "def decoupage_simple(l: list, i: int, j: int) -> list:\n",
    "    \"\"\"\n",
    "    Retourne le découpage l[i:j] sans utiliser la syntaxe de découpage.\n",
    "    \n",
    "    Arguments :\n",
    "    l -- une liste\n",
    "    i -- indice de début\n",
    "    j -- indice de fin\n",
    "    \n",
    "    Retourne :\n",
    "    Une sous-liste de l allant de l'indice i à j (exclu).\n",
    "    \"\"\"\n",
    "    resultat = []\n",
    "    for index in range(i, j):\n",
    "        if index < len(l):\n",
    "            resultat.append(l[index])\n",
    "    return resultat\n",
    "lcomptine = ['am', 'stram', 'gram', 'pic', 'pic', 'col', 'gram']\n",
    "assert decoupage_simple(lcomptine, 1, 3) == lcomptine[1:3]\n",
    "assert decoupage_simple(lcomptine, 3, 4) == lcomptine[3:4]\n",
    "assert decoupage_simple(lcomptine, 3, 3) == lcomptine[3:3]\n",
    "assert decoupage_simple(lcomptine, 5, 3) == lcomptine[5:3]\n",
    "assert decoupage_simple(lcomptine, 0, 7) == lcomptine[0:7]\n"
   ]
  },
  {
   "cell_type": "markdown",
   "metadata": {},
   "source": [
    "# Question 2"
   ]
  },
  {
   "cell_type": "code",
   "execution_count": 1278,
   "metadata": {},
   "outputs": [],
   "source": [
    "def decoupage_pas(l: list, i: int, j: int, p: int) -> list:\n",
    "    \"\"\"\n",
    "    Retourne le découpage l[i:j:p] sans utiliser la syntaxe de découpage.\n",
    "    \n",
    "    Arguments :\n",
    "    l -- une liste\n",
    "    i -- indice de début\n",
    "    j -- indice de fin\n",
    "    p -- pas (strictement positif)\n",
    "    \n",
    "    Retourne :\n",
    "    Une sous-liste avec un pas donné.\n",
    "    \"\"\"\n",
    "    resultat = []\n",
    "    index = i\n",
    "    while index < j and index < len(l):\n",
    "        resultat.append(l[index])\n",
    "        index += p\n",
    "    return resultat\n",
    "assert decoupage_pas(lcomptine, 1, 5, 2) == lcomptine[1:5:2]\n",
    "assert decoupage_pas(lcomptine, 2, 6, 1) == lcomptine[2:6:1]\n"
   ]
  },
  {
   "cell_type": "markdown",
   "metadata": {},
   "source": [
    "# Question 3"
   ]
  },
  {
   "cell_type": "code",
   "execution_count": 1279,
   "metadata": {},
   "outputs": [],
   "source": [
    "def decoupage_pas_inv(l: list, i: int, j: int, p: int) -> list:\n",
    "    \"\"\"\n",
    "    Retourne le découpage l[i:j:p] avec un pas négatif.\n",
    "    \n",
    "    Arguments :\n",
    "    l -- une liste\n",
    "    i -- indice de début\n",
    "    j -- indice de fin\n",
    "    p -- pas (strictement négatif)\n",
    "    \n",
    "    Retourne :\n",
    "    Une sous-liste avec un pas négatif.\n",
    "    \"\"\"\n",
    "    resultat = []\n",
    "    index = i\n",
    "    while index > j and index >= 0:\n",
    "        resultat.append(l[index])\n",
    "        index += p\n",
    "    return resultat\n",
    "assert decoupage_pas_inv(lcomptine, 5, 2, -2) == lcomptine[5:2:-2]\n",
    "assert decoupage_pas_inv(lcomptine, 6, 0, -1) == lcomptine[6:0:-1]\n",
    "assert decoupage_pas_inv(lcomptine, 6, 0, -3) == lcomptine[6:0:-3]\n"
   ]
  },
  {
   "cell_type": "markdown",
   "metadata": {},
   "source": [
    "# Question 4"
   ]
  },
  {
   "cell_type": "code",
   "execution_count": 1280,
   "metadata": {},
   "outputs": [],
   "source": [
    "def normalisation(i: int, long: int) -> int:\n",
    "    \"\"\"\n",
    "    Normalise un indice pour une liste de longueur donnée.\n",
    "    \n",
    "    Arguments :\n",
    "    i -- l'indice à normaliser\n",
    "    long -- la longueur de la liste\n",
    "    \n",
    "    Retourne :\n",
    "    L'indice normalisé.\n",
    "    \"\"\"\n",
    "    if i < 0:  # indice négatif\n",
    "        if -i <= long:\n",
    "            return long + i\n",
    "        else:\n",
    "            return 0\n",
    "    else:  # indice positif\n",
    "        if i > long:\n",
    "            return long\n",
    "        else:\n",
    "            return i\n",
    "def decoupage(l: list, i: int, j: int, p: int) -> list:\n",
    "    \"\"\"\n",
    "    Retourne le découpage généralisé l[i:j:p] en tenant compte des indices et pas négatifs.\n",
    "    \n",
    "    Arguments :\n",
    "    l -- une liste\n",
    "    i -- indice de début\n",
    "    j -- indice de fin\n",
    "    p -- pas (différent de 0)\n",
    "    \n",
    "    Retourne :\n",
    "    Une sous-liste correspondant à l[i:j:p].\n",
    "    \"\"\"\n",
    "    long = len(l)\n",
    "    i = normalisation(i, long)\n",
    "    j = normalisation(j, long)\n",
    "    \n",
    "    if p > 0:\n",
    "        return decoupage_pas(l, i, j, p)\n",
    "    else:\n",
    "        return decoupage_pas_inv(l, i, j, p)\n",
    "assert decoupage(lcomptine, 1, 5, 2) == lcomptine[1:5:2]\n",
    "assert decoupage(lcomptine, 5, 2, -2) == lcomptine[5:2:-2]\n",
    "assert decoupage(lcomptine, -3, -1, 1) == lcomptine[-3:-1:1]\n",
    "assert decoupage(lcomptine, -6, -2, 2) == lcomptine[-6:-2:2]\n"
   ]
  },
  {
   "cell_type": "markdown",
   "metadata": {},
   "source": [
    "# EXO 7.2"
   ]
  },
  {
   "cell_type": "code",
   "execution_count": 1281,
   "metadata": {},
   "outputs": [
    {
     "name": "stdout",
     "output_type": "stream",
     "text": [
      "(10, 1)\n",
      "(9, 2)\n",
      "(-1, 3)\n"
     ]
    }
   ],
   "source": [
    "def nb_de_max(liste):\n",
    "    # Initialiser le maximum avec le premier élément et le compteur à 1\n",
    "    maximum = liste[0]\n",
    "    nombre_occurrences = 1\n",
    "    \n",
    "    # Parcourir la liste à partir du deuxième élément\n",
    "    for nombre in liste[1:]:\n",
    "        if nombre > maximum:\n",
    "            maximum = nombre\n",
    "            nombre_occurrences = 1  # Réinitialiser le compteur\n",
    "        elif nombre == maximum:\n",
    "            nombre_occurrences += 1  # Incrémenter le compteur si égal au maximum\n",
    "            \n",
    "    return (maximum, nombre_occurrences)\n",
    "# test \n",
    "print(nb_de_max([10]))                       # (10, 1)\n",
    "print(nb_de_max([3, 7, 9, 5.4, 8.9, 9, 8.999, 5]))  # (9, 2)\n",
    "print(nb_de_max([-2, -1, -5, -3, -1, -4, -1]))      # (-1, 3)\n"
   ]
  },
  {
   "cell_type": "markdown",
   "metadata": {},
   "source": [
    "# EXO 7.5\n",
    "# Question 1"
   ]
  },
  {
   "cell_type": "code",
   "execution_count": 1282,
   "metadata": {},
   "outputs": [
    {
     "name": "stdout",
     "output_type": "stream",
     "text": [
      "(2, 3)\n"
     ]
    }
   ],
   "source": [
    "from typing import Tuple\n",
    "\n",
    "Point = Tuple[int, int]\n",
    "\n",
    "def vecteur(p1: Point, p2: Point) -> Point:\n",
    "    \"\"\"Renvoie le vecteur formé par les points p1 et p2.\"\"\"\n",
    "    return (p2[0] - p1[0], p2[1] - p1[1])\n",
    "# test \n",
    "print(vecteur((0, 0), (2, 3)))  # (2, 3)"
   ]
  },
  {
   "cell_type": "markdown",
   "metadata": {},
   "source": [
    "# Question 2 "
   ]
  },
  {
   "cell_type": "code",
   "execution_count": 1283,
   "metadata": {},
   "outputs": [
    {
     "name": "stdout",
     "output_type": "stream",
     "text": [
      "True\n",
      "False\n"
     ]
    }
   ],
   "source": [
    "def alignes(p1: Point, p2: Point, p3: Point) -> bool:\n",
    "    \"\"\"Renvoie True si les trois points p1, p2, p3 sont alignés.\"\"\"\n",
    "    v1 = vecteur(p1, p2)\n",
    "    v2 = vecteur(p2, p3)\n",
    "    # Vérifier si les vecteurs v1 et v2 sont colinéaires\n",
    "    return v1[0] * v2[1] == v1[1] * v2[0]\n",
    "# test \n",
    "print(alignes((0, 0), (1, 1), (5, 5)))  # True\n",
    "print(alignes((0, 0), (1, 1), (1, 2)))  # False"
   ]
  },
  {
   "cell_type": "markdown",
   "metadata": {},
   "source": [
    "# Question 3"
   ]
  },
  {
   "cell_type": "code",
   "execution_count": 1284,
   "metadata": {},
   "outputs": [
    {
     "name": "stdout",
     "output_type": "stream",
     "text": [
      "True\n",
      "False\n"
     ]
    }
   ],
   "source": [
    "def alignement(L: list[Point]) -> bool:\n",
    "    \"\"\"Renvoie True si tous les points de la liste L sont alignés.\"\"\"\n",
    "    # On vérifie les triplets consécutifs\n",
    "    for i in range(len(L) - 2):\n",
    "        if not alignes(L[i], L[i + 1], L[i + 2]):\n",
    "            return False\n",
    "    return True\n",
    "# test \n",
    "print(alignement([(0, 0), (1, 1), (5, 5)]))          # True\n",
    "print(alignement([(0, 0), (1, 1), (5, 5), (1, 0)]))  # False"
   ]
  },
  {
   "cell_type": "markdown",
   "metadata": {},
   "source": [
    "# Exo 8.2\n",
    "# Question 1"
   ]
  },
  {
   "cell_type": "code",
   "execution_count": 1285,
   "metadata": {},
   "outputs": [],
   "source": [
    "def alphabet() -> list[str]:\n",
    "    \"\"\"Renvoie la liste des lettres de l'alphabet en minuscules.\"\"\"\n",
    "    return [chr(i) for i in range(ord('a'), ord('z') + 1)]\n",
    "# test \n",
    "assert alphabet() == ['a', 'b', 'c', 'd', 'e', 'f', 'g', 'h', 'i', 'j', 'k', 'l', 'm', 'n', 'o', 'p', 'q', 'r', 's', 't', 'u', 'v', 'w', 'x', 'y', 'z']\n"
   ]
  },
  {
   "cell_type": "markdown",
   "metadata": {},
   "source": [
    "# Question 2"
   ]
  },
  {
   "cell_type": "code",
   "execution_count": 1286,
   "metadata": {},
   "outputs": [
    {
     "name": "stdout",
     "output_type": "stream",
     "text": [
      "True\n",
      "False\n",
      "True\n"
     ]
    }
   ],
   "source": [
    "def est_voyelle(c: str) -> bool:\n",
    "    \"\"\"Renvoie True si le caractère c est une voyelle, False sinon.\"\"\"\n",
    "    return c.lower() in ['a', 'e', 'i', 'o', 'u', 'y']\n",
    "# Test \n",
    "print(est_voyelle('a'))  # True\n",
    "print(est_voyelle('b'))  # False\n",
    "print(est_voyelle('Y'))  # True"
   ]
  },
  {
   "cell_type": "markdown",
   "metadata": {},
   "source": [
    "# Question 3"
   ]
  },
  {
   "cell_type": "code",
   "execution_count": 1287,
   "metadata": {},
   "outputs": [
    {
     "name": "stdout",
     "output_type": "stream",
     "text": [
      "['a', 'e', 'i', 'o', 'u', 'y']\n"
     ]
    }
   ],
   "source": [
    "voyelles = [c for c in alphabet() if est_voyelle(c)]\n",
    "# test \n",
    "print(voyelles)  # ['a', 'e', 'i', 'o', 'u', 'y']"
   ]
  },
  {
   "cell_type": "markdown",
   "metadata": {},
   "source": [
    "# Question 4"
   ]
  },
  {
   "cell_type": "code",
   "execution_count": 1288,
   "metadata": {},
   "outputs": [
    {
     "name": "stdout",
     "output_type": "stream",
     "text": [
      "['b', 'c', 'd', 'f', 'g', 'h', 'j', 'k', 'l', 'm', 'n', 'p', 'q', 'r', 's', 't', 'v', 'w', 'x', 'z']\n"
     ]
    }
   ],
   "source": [
    "consonnes = [c for c in alphabet() if not est_voyelle(c)]\n",
    "# test\n",
    "print(consonnes)\n",
    "# ['b', 'c', 'd', 'f', 'g', 'h', 'j', 'k', 'l', 'm', 'n', 'p', 'q', 'r', 's', 't', 'v', 'w', 'x', 'z'] "
   ]
  },
  {
   "cell_type": "markdown",
   "metadata": {},
   "source": [
    "# EXO 8.5\n",
    "# Question 1"
   ]
  },
  {
   "cell_type": "code",
   "execution_count": 1289,
   "metadata": {},
   "outputs": [
    {
     "name": "stdout",
     "output_type": "stream",
     "text": [
      "['l', 'e', 's', ' ', 'c', 'a', 'r', 'o', 't', 't', 'e', 's']\n",
      "[]\n"
     ]
    }
   ],
   "source": [
    "def liste_caracteres(chaine: str) -> list[str]:\n",
    "    \"\"\"Renvoie la liste des caractères d'une chaîne.\"\"\"\n",
    "    return [c for c in chaine]\n",
    "# test \n",
    "print(liste_caracteres('les carottes'))  # ['l', 'e', 's', ' ', 'c', 'a', 'r', 'o', 't', 't', 'e', 's']\n",
    "print(liste_caracteres(''))             # []"
   ]
  },
  {
   "cell_type": "markdown",
   "metadata": {},
   "source": [
    "# Question 2 "
   ]
  },
  {
   "cell_type": "code",
   "execution_count": 1290,
   "metadata": {},
   "outputs": [
    {
     "name": "stdout",
     "output_type": "stream",
     "text": [
      "salut\n",
      "\n"
     ]
    }
   ],
   "source": [
    "def chaine_de(liste: list[str]) -> str:\n",
    "    \"\"\"Renvoie la chaîne correspondant à la liste de caractères.\"\"\"\n",
    "    return ''.join(liste)\n",
    "# Test \n",
    "print(chaine_de(['s', 'a', 'l', 'u', 't']))  # 'salut'\n",
    "print(chaine_de([]))                        # ''"
   ]
  },
  {
   "cell_type": "markdown",
   "metadata": {},
   "source": [
    "# Question 3 "
   ]
  },
  {
   "cell_type": "code",
   "execution_count": 1291,
   "metadata": {},
   "outputs": [
    {
     "name": "stdout",
     "output_type": "stream",
     "text": [
      "0\n",
      "1\n",
      "25\n"
     ]
    }
   ],
   "source": [
    "def num_car(c: str) -> int:\n",
    "    \"\"\"Renvoie le numéro du caractère passé en paramètre.\"\"\"\n",
    "    return ord(c) - ord('a')\n",
    "# Test \n",
    "print(num_car('a'))  # 0\n",
    "print(num_car('b'))  # 1\n",
    "print(num_car('z'))  # 25"
   ]
  },
  {
   "cell_type": "markdown",
   "metadata": {},
   "source": [
    "# Question 4 "
   ]
  },
  {
   "cell_type": "code",
   "execution_count": 1292,
   "metadata": {},
   "outputs": [
    {
     "name": "stdout",
     "output_type": "stream",
     "text": [
      "a\n",
      "b\n",
      "z\n"
     ]
    }
   ],
   "source": [
    "def car_num(n: int) -> str:\n",
    "    \"\"\"Renvoie le caractère correspondant au numéro passé en paramètre.\"\"\"\n",
    "    return chr(n + ord('a'))\n",
    "# Test \n",
    "print(car_num(0))  # 'a'\n",
    "print(car_num(1))  # 'b'\n",
    "print(car_num(25)) # 'z'"
   ]
  },
  {
   "cell_type": "markdown",
   "metadata": {},
   "source": [
    "# Question 5"
   ]
  },
  {
   "cell_type": "code",
   "execution_count": 1293,
   "metadata": {},
   "outputs": [
    {
     "name": "stdout",
     "output_type": "stream",
     "text": [
      "n\n",
      "o\n",
      "y\n",
      "m\n",
      "8\n",
      " \n"
     ]
    }
   ],
   "source": [
    "def rot13(c: str) -> str:\n",
    "    \"\"\"Renvoie le caractère codé selon ROT13.\"\"\"\n",
    "    if 'a' <= c <= 'z':\n",
    "        return car_num((num_car(c) + 13) % 26)\n",
    "    else:\n",
    "        return c  # Si le caractère n'est pas une lettre, on le laisse inchangé\n",
    "# Test \n",
    "print(rot13('a'))  # 'n'\n",
    "print(rot13('b'))  # 'o'\n",
    "print(rot13('l'))  # 'y'\n",
    "print(rot13('z'))  # 'm'\n",
    "print(rot13('8'))  # '8'\n",
    "print(rot13(' '))  # ' '"
   ]
  },
  {
   "cell_type": "markdown",
   "metadata": {},
   "source": [
    "# Question 6"
   ]
  },
  {
   "cell_type": "code",
   "execution_count": 1294,
   "metadata": {},
   "outputs": [
    {
     "name": "stdout",
     "output_type": "stream",
     "text": [
      "nopqrs\n",
      "abcdef\n",
      "yrf pnebggrf fbag phvgrf\n",
      "les carottes sont cuites\n",
      "abjurer tang purpura\n"
     ]
    }
   ],
   "source": [
    "def codage_rot13(chaine: str) -> str:\n",
    "    \"\"\"Renvoie la chaîne codée en ROT13.\"\"\"\n",
    "    return ''.join(rot13(c) for c in chaine)\n",
    "# Test \n",
    "print(codage_rot13('abcdef'))                  # 'nopqrs'\n",
    "print(codage_rot13('nopqrs'))                  # 'abcdef'\n",
    "print(codage_rot13('les carottes sont cuites')) # 'yrf pnebggrf fbag phvgrf'\n",
    "print(codage_rot13('yrf pnebggrf fbag phvgrf')) # 'les carottes sont cuites'\n",
    "print(codage_rot13('nowhere gnat chechen'))     # 'abjurer tang purpura'"
   ]
  }
 ],
 "metadata": {
  "kernelspec": {
   "display_name": "Python 3",
   "language": "python",
   "name": "python3"
  },
  "language_info": {
   "codemirror_mode": {
    "name": "ipython",
    "version": 3
   },
   "file_extension": ".py",
   "mimetype": "text/x-python",
   "name": "python",
   "nbconvert_exporter": "python",
   "pygments_lexer": "ipython3",
   "version": "3.13.0"
  }
 },
 "nbformat": 4,
 "nbformat_minor": 2
}
