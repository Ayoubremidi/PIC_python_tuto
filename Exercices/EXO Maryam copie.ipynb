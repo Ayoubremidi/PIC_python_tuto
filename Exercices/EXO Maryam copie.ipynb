{
 "cells": [
  {
   "cell_type": "markdown",
   "metadata": {},
   "source": [
    "# EXO 1.3\n",
    "# Question 1 "
   ]
  },
  {
   "cell_type": "code",
   "execution_count": 46,
   "metadata": {},
   "outputs": [
    {
     "name": "stdout",
     "output_type": "stream",
     "text": [
      "15\n",
      "40\n"
     ]
    }
   ],
   "source": [
    "def polynomiale(a, b, c, d, x):\n",
    "    return a * x**3 + b * x**2 + c * x + d\n",
    "\n",
    "# Jeu de tests\n",
    "print(polynomiale(1, 1, 1, 1, 2))  # Doit donner 15\n",
    "print(polynomiale(1, 1, 1, 1, 3))  # Doit donner 40\n"
   ]
  },
  {
   "cell_type": "markdown",
   "metadata": {},
   "source": [
    "# Question 2"
   ]
  },
  {
   "cell_type": "code",
   "execution_count": 47,
   "metadata": {},
   "outputs": [
    {
     "name": "stdout",
     "output_type": "stream",
     "text": [
      "21\n",
      "91\n"
     ]
    }
   ],
   "source": [
    "def polynomiale_carre(a, b, c, x):\n",
    "    return a * x**4 + b * x**2 + c\n",
    "\n",
    "# Jeu de tests\n",
    "print(polynomiale_carre(1, 1, 1, 2))  # Doit donner 21\n",
    "print(polynomiale_carre(1, 1, 1, 3))  # Doit donner 91"
   ]
  },
  {
   "cell_type": "markdown",
   "metadata": {},
   "source": [
    "# EXO 1.4\n",
    "# Question 1 "
   ]
  },
  {
   "cell_type": "code",
   "execution_count": 48,
   "metadata": {},
   "outputs": [
    {
     "name": "stdout",
     "output_type": "stream",
     "text": [
      "3.141592653589793\n",
      "12.566370614359172\n",
      "0.0\n"
     ]
    }
   ],
   "source": [
    "import math\n",
    "\n",
    "def aire_disque(r):\n",
    "    return math.pi * r ** 2\n",
    "\n",
    "# Jeu de tests\n",
    "print(aire_disque(1))    # Doit donner environ 3.141592653589793\n",
    "print(aire_disque(2))    # Doit donner environ 12.566370614359172\n",
    "print(aire_disque(0))    # Doit donner 0.0"
   ]
  },
  {
   "cell_type": "markdown",
   "metadata": {},
   "source": [
    "# Question 2"
   ]
  },
  {
   "cell_type": "code",
   "execution_count": 49,
   "metadata": {},
   "outputs": [
    {
     "name": "stdout",
     "output_type": "stream",
     "text": [
      "9.42477796076938\n",
      "28.274333882308138\n",
      "0.0\n"
     ]
    }
   ],
   "source": [
    "def aire_couronne(r1, r2):\n",
    "    # Calcul de l'aire en utilisant les aires des deux disques\n",
    "    return aire_disque(r2) - aire_disque(r1)\n",
    "\n",
    "# Jeu de tests\n",
    "print(aire_couronne(1, 2))    # Doit donner environ 9.42477796076938\n",
    "print(aire_couronne(0, 3))    # Doit donner environ 28.274333882308138\n",
    "print(aire_couronne(2, 2))    # Doit donner 0.0"
   ]
  },
  {
   "cell_type": "markdown",
   "metadata": {},
   "source": [
    "# EXO 2.3"
   ]
  },
  {
   "cell_type": "markdown",
   "metadata": {},
   "source": [
    "# Question 1 "
   ]
  },
  {
   "cell_type": "code",
   "execution_count": 50,
   "metadata": {},
   "outputs": [
    {
     "name": "stdout",
     "output_type": "stream",
     "text": [
      "cas 1\n",
      "cas 2\n",
      "cas 3\n",
      "cas 5\n",
      "cas 4\n",
      "cas 6\n"
     ]
    }
   ],
   "source": [
    "def f(n1: float, n2: float, n3: float) -> str:\n",
    "    \"\"\"Précondition : n1 != n2 and n2 != n3 and n3 != n1\n",
    "    retourne un cas parmi 6 selon les valeurs de n1, n2 et n3.\n",
    "    \"\"\"\n",
    "    if n1 < n2 and n2 < n3:\n",
    "        return 'cas 1'\n",
    "    elif n1 < n3 and n3 < n2:\n",
    "        return 'cas 2'\n",
    "    elif n2 < n1 and n1 < n3:\n",
    "        return 'cas 3'\n",
    "    elif n2 < n3 and n3 < n1:\n",
    "        return 'cas 4'\n",
    "    elif n3 < n1 and n1 < n2:\n",
    "        return 'cas 5'\n",
    "    else:\n",
    "        return 'cas 6'\n",
    "\n",
    "# Jeu de tests\n",
    "print(f(1, 2, 3))  # cas 1 : n1 < n2 < n3\n",
    "print(f(1, 3, 2))  # cas 2 : n1 < n3 < n2\n",
    "print(f(2, 1, 3))  # cas 3 : n2 < n1 < n3\n",
    "print(f(2, 3, 1))  # cas 4 : n2 < n3 < n1\n",
    "print(f(3, 1, 2))  # cas 5 : n3 < n1 < n2\n",
    "print(f(3, 2, 1))  # cas 6 : n3 < n2 < n1\n"
   ]
  },
  {
   "cell_type": "markdown",
   "metadata": {},
   "source": [
    "# Question 2 "
   ]
  },
  {
   "cell_type": "code",
   "execution_count": 51,
   "metadata": {},
   "outputs": [
    {
     "name": "stdout",
     "output_type": "stream",
     "text": [
      "cas 1\n",
      "cas 2\n",
      "cas 3\n",
      "cas 6\n",
      "cas 4\n",
      "cas 5\n"
     ]
    }
   ],
   "source": [
    "def f(n1: float, n2: float, n3: float) -> str:\n",
    "    \"\"\"Précondition : n1 != n2 and n2 != n3 and n3 != n1\n",
    "    retourne un cas parmi 6 selon les valeurs de n1, n2 et n3, sans utiliser and ni or.\n",
    "    \"\"\"\n",
    "    if n1 < n2:\n",
    "        if n2 < n3:\n",
    "            return 'cas 1'  # n1 < n2 < n3\n",
    "        else:\n",
    "            if n1 < n3:\n",
    "                return 'cas 2'  # n1 < n3 < n2\n",
    "            else:\n",
    "                return 'cas 6'  # n3 < n2 < n1\n",
    "    else:\n",
    "        if n1 < n3:\n",
    "            return 'cas 3'  # n2 < n1 < n3\n",
    "        else:\n",
    "            if n2 < n3:\n",
    "                return 'cas 4'  # n2 < n3 < n1\n",
    "            else:\n",
    "                return 'cas 5'  # n3 < n1 < n2\n",
    "\n",
    "# Vérification du jeu de tests avec la nouvelle définition\n",
    "print(f(1, 2, 3))  # cas 1\n",
    "print(f(1, 3, 2))  # cas 2\n",
    "print(f(2, 1, 3))  # cas 3\n",
    "print(f(2, 3, 1))  # cas 4\n",
    "print(f(3, 1, 2))  # cas 5\n",
    "print(f(3, 2, 1))  # cas 6"
   ]
  }
 ],
 "metadata": {
  "kernelspec": {
   "display_name": "Python 3",
   "language": "python",
   "name": "python3"
  },
  "language_info": {
   "codemirror_mode": {
    "name": "ipython",
    "version": 3
   },
   "file_extension": ".py",
   "mimetype": "text/x-python",
   "name": "python",
   "nbconvert_exporter": "python",
   "pygments_lexer": "ipython3",
   "version": "3.12.4"
  }
 },
 "nbformat": 4,
 "nbformat_minor": 2
}
